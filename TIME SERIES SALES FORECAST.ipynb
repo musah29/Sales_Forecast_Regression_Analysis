{
 "cells": [
  {
   "cell_type": "markdown",
   "id": "7966fc81",
   "metadata": {},
   "source": [
    "# BEIJING"
   ]
  },
  {
   "cell_type": "markdown",
   "id": "4ca445c7",
   "metadata": {},
   "source": [
    "# Forecasting Retail Sales using Time Series Models."
   ]
  },
  {
   "cell_type": "markdown",
   "id": "ddeb9f31",
   "metadata": {},
   "source": [
    "<b>DESCRIPTION<b>:\n",
    "    \n",
    "The objective of this project is to develop a robust time series forecasting model that can accurately predict the unit sales for various items sold in Favorita stores. Favorita is a leading grocery retailer based in Ecuador, and the company's sales data will be used to build the model. The data set contains sales data for thousands of items sold at different stores, making it a challenging and complex problem.\n",
    "\n",
    "To build an accurate forecasting model, various statistical and machine learning techniques will be used. The data will be preprocessed to ensure that it is clean, consistent, and in the right format for analysis. Exploratory data analysis (EDA) techniques will be employed to gain a deeper understanding of the data and identify any patterns or trends in the sales data.\n",
    "\n",
    "Time series forecasting models, such as ARIMA, exponential smoothing, and machine learning algorithms, including random forests and gradient boosting, will be used to predict store sales. These models will be trained using historical sales data, and their accuracy will be evaluated using various performance metrics such as root mean square logarithmic error, root mean squared error (RMSE), and mean square error (MSE).\n",
    "\n",
    "The results obtained from the forecasting models will be analyzed, and insights gained from the analysis will be used to make informed business decisions. The insights could include identifying which products have high demand at different times of the year, which stores perform better than others, and identifying any trends in sales data that could inform marketing and inventory decisions.\n",
    "\n",
    "Overall, the project aims to build a reliable time series forecasting model that can help Favorita optimize their sales strategies and improve their bottom line."
   ]
  },
  {
   "cell_type": "markdown",
   "id": "6e4713fd",
   "metadata": {},
   "source": [
    "<b>QUESTIONS ASKED OF THE DATA<b>\n",
    "    \n",
    "-Is the train dataset complete (has all the required dates)?\n",
    "\n",
    "-Which dates have the lowest and highest sales for each year?\n",
    "\n",
    "-Did the earthquake impact sales?\n",
    "\n",
    "-Are certain groups of stores selling more products? (Cluster, city, state, type)\n",
    "\n",
    "-Are sales affected by promotions, oil prices and holidays?\n",
    "\n",
    "-What analysis can we get from the date and its extractable features?\n",
    "\n",
    "-What is the difference between RMSLE, RMSE, MSE (or why is the MAE greater than all of them?)\n",
    "\n",
    "Your task is to build a model that more accurately predicts the unit sales for thousands of items."
   ]
  },
  {
   "cell_type": "markdown",
   "id": "63e9b692",
   "metadata": {},
   "source": [
    "<b>Hypothesis<b>\n",
    "\n",
    "The location of Favorita stores has an impact on the sales of specific items, and stores located in certain regions sell more of certain items compared to others. By identifying these regional trends and patterns, Favorita can optimize its store layout, product selection, and marketing strategies to better serve its customers and increase sales.\n",
    "    \n",
    "<b>Null Hypothesis(H0)<b>: \n",
    "\n",
    "There is no relationship between the location of Favorita stores and the sales of specific items.\n",
    "\n",
    "<b>Alternative Hypothesis(HA)<b>: \n",
    "\n",
    "The location of Favorita stores has an impact on the sales of specific items.\n"
   ]
  },
  {
   "cell_type": "markdown",
   "id": "33de1378",
   "metadata": {},
   "source": [
    "<b>Importation<b>\n",
    "\n",
    "Here we import the relevant libraries and packages that will be used in the notebook."
   ]
  },
  {
   "cell_type": "code",
   "execution_count": 1,
   "id": "020e777f",
   "metadata": {},
   "outputs": [],
   "source": [
    "import pandas as pd\n",
    "import seaborn as sns\n",
    "import matplotlib.pyplot as plt\n",
    "from summarytools import dfSummary\n",
    "import warnings\n",
    "from scipy.stats import f_oneway\n",
    "warnings.filterwarnings('ignore')"
   ]
  },
  {
   "cell_type": "markdown",
   "id": "96b334be",
   "metadata": {},
   "source": [
    "<b>DATA LOADING<b>"
   ]
  },
  {
   "cell_type": "code",
   "execution_count": 2,
   "id": "acfecb72",
   "metadata": {},
   "outputs": [],
   "source": [
    "df_holiday_events=pd.read_csv(\"C:/Users/User/Documents/ALL THINGS DATA\\AZUBI/CAREER ACCELERATOR/LP2-REGRESSION/store-sales-time-series-forecasting/holidays_events.csv\")\n",
    "df_oil=pd.read_csv(\"C:/Users/User/Documents/ALL THINGS DATA/AZUBI/CAREER ACCELERATOR/LP2-REGRESSION/store-sales-time-series-forecasting/oil.csv\")\n",
    "df_sample_submission=pd.read_csv(\"C:/Users/User/Documents/ALL THINGS DATA/AZUBI/CAREER ACCELERATOR/LP2-REGRESSION/store-sales-time-series-forecasting/sample_submission.csv\")\n",
    "df_stores=pd.read_csv(\"C:/Users/User/Documents/ALL THINGS DATA/AZUBI/CAREER ACCELERATOR/LP2-REGRESSION/store-sales-time-series-forecasting/stores.csv\")\n",
    "df_transactions=pd.read_csv(\"C:/Users/User/Documents/ALL THINGS DATA/AZUBI/CAREER ACCELERATOR/LP2-REGRESSION/store-sales-time-series-forecasting/transactions.csv\")\n",
    "test_set=pd.read_csv(\"C:/Users/User/Documents/ALL THINGS DATA/AZUBI/CAREER ACCELERATOR/LP2-REGRESSION/store-sales-time-series-forecasting/test.csv\")\n",
    "train_set=pd.read_csv(\"C:/Users/User/Documents/ALL THINGS DATA/AZUBI/CAREER ACCELERATOR/LP2-REGRESSION/store-sales-time-series-forecasting/train.csv\")\n",
    "pd.set_option('display.max_columns', None)"
   ]
  },
  {
   "cell_type": "markdown",
   "id": "b739f998",
   "metadata": {},
   "source": [
    "# EXPLORATORY DATA ANALYSIS-EDA."
   ]
  },
  {
   "cell_type": "markdown",
   "id": "58d92f7c",
   "metadata": {},
   "source": [
    "<b>INSPECT EACH DATASET INDIVIDUALLY.<b>"
   ]
  },
  {
   "cell_type": "markdown",
   "id": "b214ce4f",
   "metadata": {},
   "source": [
    "<b>HOLIDAY EVENTS DATASET<b>"
   ]
  },
  {
   "cell_type": "code",
   "execution_count": 3,
   "id": "2d0429e4",
   "metadata": {},
   "outputs": [
    {
     "data": {
      "text/html": [
       "<div>\n",
       "<style scoped>\n",
       "    .dataframe tbody tr th:only-of-type {\n",
       "        vertical-align: middle;\n",
       "    }\n",
       "\n",
       "    .dataframe tbody tr th {\n",
       "        vertical-align: top;\n",
       "    }\n",
       "\n",
       "    .dataframe thead th {\n",
       "        text-align: right;\n",
       "    }\n",
       "</style>\n",
       "<table border=\"1\" class=\"dataframe\">\n",
       "  <thead>\n",
       "    <tr style=\"text-align: right;\">\n",
       "      <th></th>\n",
       "      <th>date</th>\n",
       "      <th>type</th>\n",
       "      <th>locale</th>\n",
       "      <th>locale_name</th>\n",
       "      <th>description</th>\n",
       "      <th>transferred</th>\n",
       "    </tr>\n",
       "  </thead>\n",
       "  <tbody>\n",
       "    <tr>\n",
       "      <th>0</th>\n",
       "      <td>2012-03-02</td>\n",
       "      <td>Holiday</td>\n",
       "      <td>Local</td>\n",
       "      <td>Manta</td>\n",
       "      <td>Fundacion de Manta</td>\n",
       "      <td>False</td>\n",
       "    </tr>\n",
       "    <tr>\n",
       "      <th>1</th>\n",
       "      <td>2012-04-01</td>\n",
       "      <td>Holiday</td>\n",
       "      <td>Regional</td>\n",
       "      <td>Cotopaxi</td>\n",
       "      <td>Provincializacion de Cotopaxi</td>\n",
       "      <td>False</td>\n",
       "    </tr>\n",
       "    <tr>\n",
       "      <th>2</th>\n",
       "      <td>2012-04-12</td>\n",
       "      <td>Holiday</td>\n",
       "      <td>Local</td>\n",
       "      <td>Cuenca</td>\n",
       "      <td>Fundacion de Cuenca</td>\n",
       "      <td>False</td>\n",
       "    </tr>\n",
       "    <tr>\n",
       "      <th>3</th>\n",
       "      <td>2012-04-14</td>\n",
       "      <td>Holiday</td>\n",
       "      <td>Local</td>\n",
       "      <td>Libertad</td>\n",
       "      <td>Cantonizacion de Libertad</td>\n",
       "      <td>False</td>\n",
       "    </tr>\n",
       "    <tr>\n",
       "      <th>4</th>\n",
       "      <td>2012-04-21</td>\n",
       "      <td>Holiday</td>\n",
       "      <td>Local</td>\n",
       "      <td>Riobamba</td>\n",
       "      <td>Cantonizacion de Riobamba</td>\n",
       "      <td>False</td>\n",
       "    </tr>\n",
       "  </tbody>\n",
       "</table>\n",
       "</div>"
      ],
      "text/plain": [
       "         date     type    locale locale_name                    description  \\\n",
       "0  2012-03-02  Holiday     Local       Manta             Fundacion de Manta   \n",
       "1  2012-04-01  Holiday  Regional    Cotopaxi  Provincializacion de Cotopaxi   \n",
       "2  2012-04-12  Holiday     Local      Cuenca            Fundacion de Cuenca   \n",
       "3  2012-04-14  Holiday     Local    Libertad      Cantonizacion de Libertad   \n",
       "4  2012-04-21  Holiday     Local    Riobamba      Cantonizacion de Riobamba   \n",
       "\n",
       "   transferred  \n",
       "0        False  \n",
       "1        False  \n",
       "2        False  \n",
       "3        False  \n",
       "4        False  "
      ]
     },
     "execution_count": 3,
     "metadata": {},
     "output_type": "execute_result"
    }
   ],
   "source": [
    "df_holiday_events.head()"
   ]
  },
  {
   "cell_type": "code",
   "execution_count": 4,
   "id": "e181a8c7",
   "metadata": {},
   "outputs": [
    {
     "name": "stdout",
     "output_type": "stream",
     "text": [
      "<class 'pandas.core.frame.DataFrame'>\n",
      "RangeIndex: 350 entries, 0 to 349\n",
      "Data columns (total 6 columns):\n",
      " #   Column       Non-Null Count  Dtype \n",
      "---  ------       --------------  ----- \n",
      " 0   date         350 non-null    object\n",
      " 1   type         350 non-null    object\n",
      " 2   locale       350 non-null    object\n",
      " 3   locale_name  350 non-null    object\n",
      " 4   description  350 non-null    object\n",
      " 5   transferred  350 non-null    bool  \n",
      "dtypes: bool(1), object(5)\n",
      "memory usage: 14.1+ KB\n"
     ]
    }
   ],
   "source": [
    "df_holiday_events.info()"
   ]
  },
  {
   "cell_type": "code",
   "execution_count": 5,
   "id": "99a090fe",
   "metadata": {},
   "outputs": [],
   "source": [
    "#Convert the date datatype from object to date.\n",
    "df_holiday_events['date']=pd.to_datetime(df_holiday_events.date)"
   ]
  },
  {
   "cell_type": "code",
   "execution_count": 6,
   "id": "9a330b4f",
   "metadata": {},
   "outputs": [
    {
     "data": {
      "text/plain": [
       "False    350\n",
       "dtype: int64"
      ]
     },
     "execution_count": 6,
     "metadata": {},
     "output_type": "execute_result"
    }
   ],
   "source": [
    "#Check for duplicate entries.\n",
    "\n",
    "df_holiday_events.duplicated().value_counts()"
   ]
  },
  {
   "cell_type": "code",
   "execution_count": 7,
   "id": "9adbfbdb",
   "metadata": {},
   "outputs": [
    {
     "data": {
      "text/html": [
       "<button type=\"button\" class = \"st-collapsible\", \n",
       "    id = \"btn-1823\" onclick = \"coll_toggle_1823()\">Show Summary - df_holiday_events</button>\n",
       "    <div class=\"st-content\" id=\"cont-1823\">\n",
       "      <style type=\"text/css\">\n",
       "#T_6ed48 thead>tr>th {\n",
       "  text-align: left;\n",
       "}\n",
       "#T_6ed48_row0_col0, #T_6ed48_row1_col0, #T_6ed48_row2_col0, #T_6ed48_row3_col0, #T_6ed48_row4_col0, #T_6ed48_row5_col0 {\n",
       "  text-align: left;\n",
       "  font-size: 12px;\n",
       "  vertical-align: middle;\n",
       "  width: 5%;\n",
       "  max-width: 50px;\n",
       "  min-width: 20px;\n",
       "}\n",
       "#T_6ed48_row0_col1, #T_6ed48_row1_col1, #T_6ed48_row2_col1, #T_6ed48_row3_col1, #T_6ed48_row4_col1, #T_6ed48_row5_col1 {\n",
       "  text-align: left;\n",
       "  font-size: 12px;\n",
       "  vertical-align: middle;\n",
       "  width: 15%;\n",
       "  max-width: 200px;\n",
       "  min-width: 100px;\n",
       "  word-break: break-word;\n",
       "}\n",
       "#T_6ed48_row0_col2, #T_6ed48_row1_col2, #T_6ed48_row2_col2, #T_6ed48_row3_col2, #T_6ed48_row4_col2, #T_6ed48_row5_col2 {\n",
       "  text-align: left;\n",
       "  font-size: 12px;\n",
       "  vertical-align: middle;\n",
       "  width: 30%;\n",
       "  min-width: 100px;\n",
       "}\n",
       "#T_6ed48_row0_col3, #T_6ed48_row1_col3, #T_6ed48_row2_col3, #T_6ed48_row3_col3, #T_6ed48_row4_col3, #T_6ed48_row5_col3 {\n",
       "  text-align: left;\n",
       "  font-size: 12px;\n",
       "  vertical-align: middle;\n",
       "  width: 25%;\n",
       "  min-width: 100px;\n",
       "}\n",
       "#T_6ed48_row0_col4, #T_6ed48_row1_col4, #T_6ed48_row2_col4, #T_6ed48_row3_col4, #T_6ed48_row4_col4, #T_6ed48_row5_col4 {\n",
       "  text-align: left;\n",
       "  font-size: 12px;\n",
       "  vertical-align: middle;\n",
       "  width: 20%;\n",
       "  min-width: 150px;\n",
       "}\n",
       "#T_6ed48_row0_col5, #T_6ed48_row1_col5, #T_6ed48_row2_col5, #T_6ed48_row3_col5, #T_6ed48_row4_col5, #T_6ed48_row5_col5 {\n",
       "  text-align: left;\n",
       "  font-size: 12px;\n",
       "  vertical-align: middle;\n",
       "  width: 10%;\n",
       "}\n",
       "</style>\n",
       "<table id=\"T_6ed48\">\n",
       "  <caption><strong>Data Frame Summary</strong><br>df_holiday_events<br>Dimensions: 350 x 6<br>Duplicates: 0</caption>\n",
       "  <thead>\n",
       "    <tr>\n",
       "      <th id=\"T_6ed48_level0_col0\" class=\"col_heading level0 col0\" >No</th>\n",
       "      <th id=\"T_6ed48_level0_col1\" class=\"col_heading level0 col1\" >Variable</th>\n",
       "      <th id=\"T_6ed48_level0_col2\" class=\"col_heading level0 col2\" >Stats / Values</th>\n",
       "      <th id=\"T_6ed48_level0_col3\" class=\"col_heading level0 col3\" >Freqs / (% of Valid)</th>\n",
       "      <th id=\"T_6ed48_level0_col4\" class=\"col_heading level0 col4\" >Graph</th>\n",
       "      <th id=\"T_6ed48_level0_col5\" class=\"col_heading level0 col5\" >Missing</th>\n",
       "    </tr>\n",
       "  </thead>\n",
       "  <tbody>\n",
       "    <tr>\n",
       "      <td id=\"T_6ed48_row0_col0\" class=\"data row0 col0\" >1</td>\n",
       "      <td id=\"T_6ed48_row0_col1\" class=\"data row0 col1\" ><strong>date</strong><br>[datetime64[ns]]</td>\n",
       "      <td id=\"T_6ed48_row0_col2\" class=\"data row0 col2\" >Min: 2012-03-02<br>Max: 2017-12-26<br>Duration: 2,125 days</td>\n",
       "      <td id=\"T_6ed48_row0_col3\" class=\"data row0 col3\" >312 distinct values</td>\n",
       "      <td id=\"T_6ed48_row0_col4\" class=\"data row0 col4\" ><img src = \"tmp\\df_holiday_events_000.png\"></img></td>\n",
       "      <td id=\"T_6ed48_row0_col5\" class=\"data row0 col5\" >0<br>(0.0%)</td>\n",
       "    </tr>\n",
       "    <tr>\n",
       "      <td id=\"T_6ed48_row1_col0\" class=\"data row1 col0\" >2</td>\n",
       "      <td id=\"T_6ed48_row1_col1\" class=\"data row1 col1\" ><strong>type</strong><br>[object]</td>\n",
       "      <td id=\"T_6ed48_row1_col2\" class=\"data row1 col2\" >1. Holiday<br>2. Event<br>3. Additional<br>4. Transfer<br>5. Bridge<br>6. Work Day</td>\n",
       "      <td id=\"T_6ed48_row1_col3\" class=\"data row1 col3\" >221 (63.1%)<br>56 (16.0%)<br>51 (14.6%)<br>12 (3.4%)<br>5 (1.4%)<br>5 (1.4%)</td>\n",
       "      <td id=\"T_6ed48_row1_col4\" class=\"data row1 col4\" ><img src = \"tmp\\df_holiday_events_001.png\"></img></td>\n",
       "      <td id=\"T_6ed48_row1_col5\" class=\"data row1 col5\" >0<br>(0.0%)</td>\n",
       "    </tr>\n",
       "    <tr>\n",
       "      <td id=\"T_6ed48_row2_col0\" class=\"data row2 col0\" >3</td>\n",
       "      <td id=\"T_6ed48_row2_col1\" class=\"data row2 col1\" ><strong>locale</strong><br>[object]</td>\n",
       "      <td id=\"T_6ed48_row2_col2\" class=\"data row2 col2\" >1. National<br>2. Local<br>3. Regional</td>\n",
       "      <td id=\"T_6ed48_row2_col3\" class=\"data row2 col3\" >174 (49.7%)<br>152 (43.4%)<br>24 (6.9%)</td>\n",
       "      <td id=\"T_6ed48_row2_col4\" class=\"data row2 col4\" ><img src = \"tmp\\df_holiday_events_002.png\"></img></td>\n",
       "      <td id=\"T_6ed48_row2_col5\" class=\"data row2 col5\" >0<br>(0.0%)</td>\n",
       "    </tr>\n",
       "    <tr>\n",
       "      <td id=\"T_6ed48_row3_col0\" class=\"data row3 col0\" >4</td>\n",
       "      <td id=\"T_6ed48_row3_col1\" class=\"data row3 col1\" ><strong>locale_name</strong><br>[object]</td>\n",
       "      <td id=\"T_6ed48_row3_col2\" class=\"data row3 col2\" >1. Ecuador<br>2. Quito<br>3. Riobamba<br>4. Guaranda<br>5. Latacunga<br>6. Ambato<br>7. Guayaquil<br>8. Cuenca<br>9. Ibarra<br>10. Salinas<br>11. other</td>\n",
       "      <td id=\"T_6ed48_row3_col3\" class=\"data row3 col3\" >174 (49.7%)<br>13 (3.7%)<br>12 (3.4%)<br>12 (3.4%)<br>12 (3.4%)<br>12 (3.4%)<br>11 (3.1%)<br>7 (2.0%)<br>7 (2.0%)<br>6 (1.7%)<br>84 (24.0%)</td>\n",
       "      <td id=\"T_6ed48_row3_col4\" class=\"data row3 col4\" ><img src = \"tmp\\df_holiday_events_003.png\"></img></td>\n",
       "      <td id=\"T_6ed48_row3_col5\" class=\"data row3 col5\" >0<br>(0.0%)</td>\n",
       "    </tr>\n",
       "    <tr>\n",
       "      <td id=\"T_6ed48_row4_col0\" class=\"data row4 col0\" >5</td>\n",
       "      <td id=\"T_6ed48_row4_col1\" class=\"data row4 col1\" ><strong>description</strong><br>[object]</td>\n",
       "      <td id=\"T_6ed48_row4_col2\" class=\"data row4 col2\" >1. Carnaval<br>2. Fundacion de Cuenca<br>3. Fundacion de Ibarra<br>4. Fundacion de Quito<br>5. Provincializacion de Santo Dom<br>6. Provincializacion Santa Elena<br>7. Independencia de Guaranda<br>8. Independencia de Latacunga<br>9. Independencia de Ambato<br>10. Fundacion de Quito-1<br>11. other</td>\n",
       "      <td id=\"T_6ed48_row4_col3\" class=\"data row4 col3\" >10 (2.9%)<br>7 (2.0%)<br>7 (2.0%)<br>6 (1.7%)<br>6 (1.7%)<br>6 (1.7%)<br>6 (1.7%)<br>6 (1.7%)<br>6 (1.7%)<br>6 (1.7%)<br>284 (81.1%)</td>\n",
       "      <td id=\"T_6ed48_row4_col4\" class=\"data row4 col4\" ><img src = \"tmp\\df_holiday_events_004.png\"></img></td>\n",
       "      <td id=\"T_6ed48_row4_col5\" class=\"data row4 col5\" >0<br>(0.0%)</td>\n",
       "    </tr>\n",
       "    <tr>\n",
       "      <td id=\"T_6ed48_row5_col0\" class=\"data row5 col0\" >6</td>\n",
       "      <td id=\"T_6ed48_row5_col1\" class=\"data row5 col1\" ><strong>transferred</strong><br>[bool]</td>\n",
       "      <td id=\"T_6ed48_row5_col2\" class=\"data row5 col2\" >1. False<br>2. True</td>\n",
       "      <td id=\"T_6ed48_row5_col3\" class=\"data row5 col3\" >338 (96.6%)<br>12 (3.4%)</td>\n",
       "      <td id=\"T_6ed48_row5_col4\" class=\"data row5 col4\" ><img src = \"tmp\\df_holiday_events_005.png\"></img></td>\n",
       "      <td id=\"T_6ed48_row5_col5\" class=\"data row5 col5\" >0<br>(0.0%)</td>\n",
       "    </tr>\n",
       "  </tbody>\n",
       "</table>\n",
       "\n",
       "    </div>\n",
       "    <style>\n",
       "    .st-collapsible {\n",
       "      background-color: #eee;\n",
       "      color: #444;\n",
       "      cursor: pointer;\n",
       "      padding: 10px;\n",
       "      width: 100%;\n",
       "      border: none;\n",
       "      text-align: left;\n",
       "      outline: none;\n",
       "      font-size: 14px;\n",
       "      border-radius: 0.5rem;\n",
       "    }\n",
       "\n",
       "    .active .st-collapsible:hover {\n",
       "      background-color: #ccc;\n",
       "    }\n",
       "\n",
       "    .st-content {\n",
       "      padding: 0 10px;\n",
       "      background-color: white;\n",
       "      max-height: 0;\n",
       "      overflow: hidden;\n",
       "      transition: max-height 0.2s ease-out;\n",
       "    }\n",
       "\n",
       "    .st-collapsible:after {\n",
       "      content: '+'; /* Unicode character for \"plus\" sign (+) */\n",
       "      color: #444;\n",
       "      font-weight: bold;\n",
       "      float: right;\n",
       "      margin-left: 5px;\n",
       "    }\n",
       "\n",
       "    .active:after {\n",
       "      content: '-';\n",
       "    }\n",
       "    </style><script>\n",
       "    function coll_toggle_1823(){\n",
       "        var coll = document.getElementById(\"btn-1823\");\n",
       "        var content = document.getElementById(\"cont-1823\");\n",
       "        coll.classList.toggle(\"active\");\n",
       "        if (content.style.maxHeight){\n",
       "          content.style.maxHeight = null;\n",
       "          coll.innerHTML = \"Show Summary - df_holiday_events\";\n",
       "        } else {\n",
       "          content.style.maxHeight = content.scrollHeight + \"px\";\n",
       "          coll.innerHTML = \"Hide Summary - df_holiday_events\";\n",
       "        }\n",
       "    }  \n",
       "\n",
       "    </script>"
      ],
      "text/plain": [
       "<IPython.core.display.HTML object>"
      ]
     },
     "execution_count": 7,
     "metadata": {},
     "output_type": "execute_result"
    }
   ],
   "source": [
    "dfSummary(df_holiday_events,is_collapsible=True)"
   ]
  },
  {
   "cell_type": "markdown",
   "id": "5b643093",
   "metadata": {},
   "source": [
    "<b>Observations about df_holiday_events DataFrame.<b>\n",
    "\n",
    "-There are no missing values in each of the columns.\n",
    "\n",
    "-The date column had an object data type.\n",
    "\n",
    "-There are total of 12 transferred holidays in the transferred column.\n",
    "    \n",
    "-There are no duplicate entries in the dataset."
   ]
  },
  {
   "cell_type": "markdown",
   "id": "41f50655",
   "metadata": {},
   "source": [
    "<b>Feature creation<b>\n",
    "\n",
    "For ease of analysis further down the line, I decided to create stand-alone columns for day,month and year using the date column."
   ]
  },
  {
   "cell_type": "code",
   "execution_count": 8,
   "id": "55c4c8a6",
   "metadata": {},
   "outputs": [],
   "source": [
    "date = pd.to_datetime(df_holiday_events['date'][0])"
   ]
  },
  {
   "cell_type": "code",
   "execution_count": 9,
   "id": "1c51164c",
   "metadata": {},
   "outputs": [],
   "source": [
    "df_holiday_events['Year']=date.year\n",
    "df_holiday_events['Month']=date.month\n",
    "df_holiday_events['Day Name']=date.day_name()"
   ]
  },
  {
   "cell_type": "code",
   "execution_count": 10,
   "id": "b2f57bfe",
   "metadata": {},
   "outputs": [
    {
     "data": {
      "text/html": [
       "<div>\n",
       "<style scoped>\n",
       "    .dataframe tbody tr th:only-of-type {\n",
       "        vertical-align: middle;\n",
       "    }\n",
       "\n",
       "    .dataframe tbody tr th {\n",
       "        vertical-align: top;\n",
       "    }\n",
       "\n",
       "    .dataframe thead th {\n",
       "        text-align: right;\n",
       "    }\n",
       "</style>\n",
       "<table border=\"1\" class=\"dataframe\">\n",
       "  <thead>\n",
       "    <tr style=\"text-align: right;\">\n",
       "      <th></th>\n",
       "      <th>date</th>\n",
       "      <th>type</th>\n",
       "      <th>locale</th>\n",
       "      <th>locale_name</th>\n",
       "      <th>description</th>\n",
       "      <th>transferred</th>\n",
       "      <th>Year</th>\n",
       "      <th>Month</th>\n",
       "      <th>Day Name</th>\n",
       "    </tr>\n",
       "  </thead>\n",
       "  <tbody>\n",
       "    <tr>\n",
       "      <th>0</th>\n",
       "      <td>2012-03-02</td>\n",
       "      <td>Holiday</td>\n",
       "      <td>Local</td>\n",
       "      <td>Manta</td>\n",
       "      <td>Fundacion de Manta</td>\n",
       "      <td>False</td>\n",
       "      <td>2012</td>\n",
       "      <td>3</td>\n",
       "      <td>Friday</td>\n",
       "    </tr>\n",
       "    <tr>\n",
       "      <th>1</th>\n",
       "      <td>2012-04-01</td>\n",
       "      <td>Holiday</td>\n",
       "      <td>Regional</td>\n",
       "      <td>Cotopaxi</td>\n",
       "      <td>Provincializacion de Cotopaxi</td>\n",
       "      <td>False</td>\n",
       "      <td>2012</td>\n",
       "      <td>3</td>\n",
       "      <td>Friday</td>\n",
       "    </tr>\n",
       "    <tr>\n",
       "      <th>2</th>\n",
       "      <td>2012-04-12</td>\n",
       "      <td>Holiday</td>\n",
       "      <td>Local</td>\n",
       "      <td>Cuenca</td>\n",
       "      <td>Fundacion de Cuenca</td>\n",
       "      <td>False</td>\n",
       "      <td>2012</td>\n",
       "      <td>3</td>\n",
       "      <td>Friday</td>\n",
       "    </tr>\n",
       "    <tr>\n",
       "      <th>3</th>\n",
       "      <td>2012-04-14</td>\n",
       "      <td>Holiday</td>\n",
       "      <td>Local</td>\n",
       "      <td>Libertad</td>\n",
       "      <td>Cantonizacion de Libertad</td>\n",
       "      <td>False</td>\n",
       "      <td>2012</td>\n",
       "      <td>3</td>\n",
       "      <td>Friday</td>\n",
       "    </tr>\n",
       "    <tr>\n",
       "      <th>4</th>\n",
       "      <td>2012-04-21</td>\n",
       "      <td>Holiday</td>\n",
       "      <td>Local</td>\n",
       "      <td>Riobamba</td>\n",
       "      <td>Cantonizacion de Riobamba</td>\n",
       "      <td>False</td>\n",
       "      <td>2012</td>\n",
       "      <td>3</td>\n",
       "      <td>Friday</td>\n",
       "    </tr>\n",
       "  </tbody>\n",
       "</table>\n",
       "</div>"
      ],
      "text/plain": [
       "        date     type    locale locale_name                    description  \\\n",
       "0 2012-03-02  Holiday     Local       Manta             Fundacion de Manta   \n",
       "1 2012-04-01  Holiday  Regional    Cotopaxi  Provincializacion de Cotopaxi   \n",
       "2 2012-04-12  Holiday     Local      Cuenca            Fundacion de Cuenca   \n",
       "3 2012-04-14  Holiday     Local    Libertad      Cantonizacion de Libertad   \n",
       "4 2012-04-21  Holiday     Local    Riobamba      Cantonizacion de Riobamba   \n",
       "\n",
       "   transferred  Year  Month Day Name  \n",
       "0        False  2012      3   Friday  \n",
       "1        False  2012      3   Friday  \n",
       "2        False  2012      3   Friday  \n",
       "3        False  2012      3   Friday  \n",
       "4        False  2012      3   Friday  "
      ]
     },
     "execution_count": 10,
     "metadata": {},
     "output_type": "execute_result"
    }
   ],
   "source": [
    "df_holiday_events.head()"
   ]
  },
  {
   "cell_type": "code",
   "execution_count": 11,
   "id": "6f50321c",
   "metadata": {},
   "outputs": [],
   "source": [
    "#We now set the date as the index for the DataFrame\n",
    "\n",
    "df_holiday_events = df_holiday_events.set_index('date')"
   ]
  },
  {
   "cell_type": "code",
   "execution_count": 12,
   "id": "1a7c160f",
   "metadata": {},
   "outputs": [
    {
     "data": {
      "text/html": [
       "<div>\n",
       "<style scoped>\n",
       "    .dataframe tbody tr th:only-of-type {\n",
       "        vertical-align: middle;\n",
       "    }\n",
       "\n",
       "    .dataframe tbody tr th {\n",
       "        vertical-align: top;\n",
       "    }\n",
       "\n",
       "    .dataframe thead th {\n",
       "        text-align: right;\n",
       "    }\n",
       "</style>\n",
       "<table border=\"1\" class=\"dataframe\">\n",
       "  <thead>\n",
       "    <tr style=\"text-align: right;\">\n",
       "      <th></th>\n",
       "      <th>type</th>\n",
       "      <th>locale</th>\n",
       "      <th>locale_name</th>\n",
       "      <th>description</th>\n",
       "      <th>transferred</th>\n",
       "      <th>Year</th>\n",
       "      <th>Month</th>\n",
       "      <th>Day Name</th>\n",
       "    </tr>\n",
       "    <tr>\n",
       "      <th>date</th>\n",
       "      <th></th>\n",
       "      <th></th>\n",
       "      <th></th>\n",
       "      <th></th>\n",
       "      <th></th>\n",
       "      <th></th>\n",
       "      <th></th>\n",
       "      <th></th>\n",
       "    </tr>\n",
       "  </thead>\n",
       "  <tbody>\n",
       "    <tr>\n",
       "      <th>2012-03-02</th>\n",
       "      <td>Holiday</td>\n",
       "      <td>Local</td>\n",
       "      <td>Manta</td>\n",
       "      <td>Fundacion de Manta</td>\n",
       "      <td>False</td>\n",
       "      <td>2012</td>\n",
       "      <td>3</td>\n",
       "      <td>Friday</td>\n",
       "    </tr>\n",
       "    <tr>\n",
       "      <th>2012-04-01</th>\n",
       "      <td>Holiday</td>\n",
       "      <td>Regional</td>\n",
       "      <td>Cotopaxi</td>\n",
       "      <td>Provincializacion de Cotopaxi</td>\n",
       "      <td>False</td>\n",
       "      <td>2012</td>\n",
       "      <td>3</td>\n",
       "      <td>Friday</td>\n",
       "    </tr>\n",
       "    <tr>\n",
       "      <th>2012-04-12</th>\n",
       "      <td>Holiday</td>\n",
       "      <td>Local</td>\n",
       "      <td>Cuenca</td>\n",
       "      <td>Fundacion de Cuenca</td>\n",
       "      <td>False</td>\n",
       "      <td>2012</td>\n",
       "      <td>3</td>\n",
       "      <td>Friday</td>\n",
       "    </tr>\n",
       "    <tr>\n",
       "      <th>2012-04-14</th>\n",
       "      <td>Holiday</td>\n",
       "      <td>Local</td>\n",
       "      <td>Libertad</td>\n",
       "      <td>Cantonizacion de Libertad</td>\n",
       "      <td>False</td>\n",
       "      <td>2012</td>\n",
       "      <td>3</td>\n",
       "      <td>Friday</td>\n",
       "    </tr>\n",
       "    <tr>\n",
       "      <th>2012-04-21</th>\n",
       "      <td>Holiday</td>\n",
       "      <td>Local</td>\n",
       "      <td>Riobamba</td>\n",
       "      <td>Cantonizacion de Riobamba</td>\n",
       "      <td>False</td>\n",
       "      <td>2012</td>\n",
       "      <td>3</td>\n",
       "      <td>Friday</td>\n",
       "    </tr>\n",
       "  </tbody>\n",
       "</table>\n",
       "</div>"
      ],
      "text/plain": [
       "               type    locale locale_name                    description  \\\n",
       "date                                                                       \n",
       "2012-03-02  Holiday     Local       Manta             Fundacion de Manta   \n",
       "2012-04-01  Holiday  Regional    Cotopaxi  Provincializacion de Cotopaxi   \n",
       "2012-04-12  Holiday     Local      Cuenca            Fundacion de Cuenca   \n",
       "2012-04-14  Holiday     Local    Libertad      Cantonizacion de Libertad   \n",
       "2012-04-21  Holiday     Local    Riobamba      Cantonizacion de Riobamba   \n",
       "\n",
       "            transferred  Year  Month Day Name  \n",
       "date                                           \n",
       "2012-03-02        False  2012      3   Friday  \n",
       "2012-04-01        False  2012      3   Friday  \n",
       "2012-04-12        False  2012      3   Friday  \n",
       "2012-04-14        False  2012      3   Friday  \n",
       "2012-04-21        False  2012      3   Friday  "
      ]
     },
     "execution_count": 12,
     "metadata": {},
     "output_type": "execute_result"
    }
   ],
   "source": [
    "df_holiday_events.head()"
   ]
  },
  {
   "cell_type": "code",
   "execution_count": 13,
   "id": "9b55c8ab",
   "metadata": {},
   "outputs": [
    {
     "data": {
      "image/png": "[encoded data removed]",
      "text/plain": [
       "<Figure size 500x500 with 1 Axes>"
      ]
     },
     "metadata": {},
     "output_type": "display_data"
    }
   ],
   "source": [
    "#Inspecting the types of the holidays column\n",
    "\n",
    "holiday_plot = sns.catplot(data=df_holiday_events, x=\"type\",kind=\"count\")\n",
    "holiday_plot.ax.set_xticklabels(holiday_plot.ax.get_xticklabels(), rotation=45);"
   ]
  },
  {
   "cell_type": "code",
   "execution_count": 14,
   "id": "0726eaee",
   "metadata": {},
   "outputs": [
    {
     "data": {
      "image/png": "[encoded data removed]",
      "text/plain": [
       "<Figure size 500x500 with 1 Axes>"
      ]
     },
     "metadata": {},
     "output_type": "display_data"
    }
   ],
   "source": [
    "##Visualizing the new data set\n",
    "\n",
    "holiday_plot = sns.catplot(data=df_holiday_events, x=\"locale\",kind=\"count\")\n",
    "holiday_plot.ax.set_xticklabels(holiday_plot.ax.get_xticklabels(), rotation=45);\n"
   ]
  },
  {
   "cell_type": "code",
   "execution_count": 15,
   "id": "d8c9870b",
   "metadata": {},
   "outputs": [
    {
     "data": {
      "image/png": "[encoded data removed]",
      "text/plain": [
       "<Figure size 500x500 with 1 Axes>"
      ]
     },
     "metadata": {},
     "output_type": "display_data"
    }
   ],
   "source": [
    "holiday_plot = sns.catplot(data=df_holiday_events, x=\"transferred\",kind=\"count\")\n",
    "holiday_plot.ax.set_xticklabels(holiday_plot.ax.get_xticklabels(), rotation=45);"
   ]
  },
  {
   "cell_type": "markdown",
   "id": "5d6edd8d",
   "metadata": {},
   "source": [
    "<b>OIL DATASET<b>"
   ]
  },
  {
   "cell_type": "code",
   "execution_count": 16,
   "id": "ee00a6a9",
   "metadata": {},
   "outputs": [
    {
     "data": {
      "text/html": [
       "<div>\n",
       "<style scoped>\n",
       "    .dataframe tbody tr th:only-of-type {\n",
       "        vertical-align: middle;\n",
       "    }\n",
       "\n",
       "    .dataframe tbody tr th {\n",
       "        vertical-align: top;\n",
       "    }\n",
       "\n",
       "    .dataframe thead th {\n",
       "        text-align: right;\n",
       "    }\n",
       "</style>\n",
       "<table border=\"1\" class=\"dataframe\">\n",
       "  <thead>\n",
       "    <tr style=\"text-align: right;\">\n",
       "      <th></th>\n",
       "      <th>date</th>\n",
       "      <th>dcoilwtico</th>\n",
       "    </tr>\n",
       "  </thead>\n",
       "  <tbody>\n",
       "    <tr>\n",
       "      <th>0</th>\n",
       "      <td>2013-01-01</td>\n",
       "      <td>NaN</td>\n",
       "    </tr>\n",
       "    <tr>\n",
       "      <th>1</th>\n",
       "      <td>2013-01-02</td>\n",
       "      <td>93.14</td>\n",
       "    </tr>\n",
       "    <tr>\n",
       "      <th>2</th>\n",
       "      <td>2013-01-03</td>\n",
       "      <td>92.97</td>\n",
       "    </tr>\n",
       "    <tr>\n",
       "      <th>3</th>\n",
       "      <td>2013-01-04</td>\n",
       "      <td>93.12</td>\n",
       "    </tr>\n",
       "    <tr>\n",
       "      <th>4</th>\n",
       "      <td>2013-01-07</td>\n",
       "      <td>93.20</td>\n",
       "    </tr>\n",
       "  </tbody>\n",
       "</table>\n",
       "</div>"
      ],
      "text/plain": [
       "         date  dcoilwtico\n",
       "0  2013-01-01         NaN\n",
       "1  2013-01-02       93.14\n",
       "2  2013-01-03       92.97\n",
       "3  2013-01-04       93.12\n",
       "4  2013-01-07       93.20"
      ]
     },
     "execution_count": 16,
     "metadata": {},
     "output_type": "execute_result"
    }
   ],
   "source": [
    "df_oil.head()"
   ]
  },
  {
   "cell_type": "code",
   "execution_count": 17,
   "id": "a058f2fc",
   "metadata": {},
   "outputs": [
    {
     "name": "stdout",
     "output_type": "stream",
     "text": [
      "<class 'pandas.core.frame.DataFrame'>\n",
      "RangeIndex: 1218 entries, 0 to 1217\n",
      "Data columns (total 2 columns):\n",
      " #   Column      Non-Null Count  Dtype  \n",
      "---  ------      --------------  -----  \n",
      " 0   date        1218 non-null   object \n",
      " 1   dcoilwtico  1175 non-null   float64\n",
      "dtypes: float64(1), object(1)\n",
      "memory usage: 19.2+ KB\n"
     ]
    }
   ],
   "source": [
    "df_oil.info()"
   ]
  },
  {
   "cell_type": "code",
   "execution_count": 18,
   "id": "0afd1672",
   "metadata": {},
   "outputs": [
    {
     "data": {
      "text/html": [
       "<button type=\"button\" class = \"st-collapsible\", \n",
       "    id = \"btn-7435\" onclick = \"coll_toggle_7435()\">Show Summary - df_oil</button>\n",
       "    <div class=\"st-content\" id=\"cont-7435\">\n",
       "      <style type=\"text/css\">\n",
       "#T_4d4ac thead>tr>th {\n",
       "  text-align: left;\n",
       "}\n",
       "#T_4d4ac_row0_col0, #T_4d4ac_row1_col0 {\n",
       "  text-align: left;\n",
       "  font-size: 12px;\n",
       "  vertical-align: middle;\n",
       "  width: 5%;\n",
       "  max-width: 50px;\n",
       "  min-width: 20px;\n",
       "}\n",
       "#T_4d4ac_row0_col1, #T_4d4ac_row1_col1 {\n",
       "  text-align: left;\n",
       "  font-size: 12px;\n",
       "  vertical-align: middle;\n",
       "  width: 15%;\n",
       "  max-width: 200px;\n",
       "  min-width: 100px;\n",
       "  word-break: break-word;\n",
       "}\n",
       "#T_4d4ac_row0_col2, #T_4d4ac_row1_col2 {\n",
       "  text-align: left;\n",
       "  font-size: 12px;\n",
       "  vertical-align: middle;\n",
       "  width: 30%;\n",
       "  min-width: 100px;\n",
       "}\n",
       "#T_4d4ac_row0_col3, #T_4d4ac_row1_col3 {\n",
       "  text-align: left;\n",
       "  font-size: 12px;\n",
       "  vertical-align: middle;\n",
       "  width: 25%;\n",
       "  min-width: 100px;\n",
       "}\n",
       "#T_4d4ac_row0_col4, #T_4d4ac_row1_col4 {\n",
       "  text-align: left;\n",
       "  font-size: 12px;\n",
       "  vertical-align: middle;\n",
       "  width: 20%;\n",
       "  min-width: 150px;\n",
       "}\n",
       "#T_4d4ac_row0_col5, #T_4d4ac_row1_col5 {\n",
       "  text-align: left;\n",
       "  font-size: 12px;\n",
       "  vertical-align: middle;\n",
       "  width: 10%;\n",
       "}\n",
       "</style>\n",
       "<table id=\"T_4d4ac\">\n",
       "  <caption><strong>Data Frame Summary</strong><br>df_oil<br>Dimensions: 1,218 x 2<br>Duplicates: 0</caption>\n",
       "  <thead>\n",
       "    <tr>\n",
       "      <th id=\"T_4d4ac_level0_col0\" class=\"col_heading level0 col0\" >No</th>\n",
       "      <th id=\"T_4d4ac_level0_col1\" class=\"col_heading level0 col1\" >Variable</th>\n",
       "      <th id=\"T_4d4ac_level0_col2\" class=\"col_heading level0 col2\" >Stats / Values</th>\n",
       "      <th id=\"T_4d4ac_level0_col3\" class=\"col_heading level0 col3\" >Freqs / (% of Valid)</th>\n",
       "      <th id=\"T_4d4ac_level0_col4\" class=\"col_heading level0 col4\" >Graph</th>\n",
       "      <th id=\"T_4d4ac_level0_col5\" class=\"col_heading level0 col5\" >Missing</th>\n",
       "    </tr>\n",
       "  </thead>\n",
       "  <tbody>\n",
       "    <tr>\n",
       "      <td id=\"T_4d4ac_row0_col0\" class=\"data row0 col0\" >1</td>\n",
       "      <td id=\"T_4d4ac_row0_col1\" class=\"data row0 col1\" ><strong>date</strong><br>[object]</td>\n",
       "      <td id=\"T_4d4ac_row0_col2\" class=\"data row0 col2\" >1. 2013-01-01<br>2. 2016-02-08<br>3. 2016-02-17<br>4. 2016-02-16<br>5. 2016-02-15<br>6. 2016-02-12<br>7. 2016-02-11<br>8. 2016-02-10<br>9. 2016-02-09<br>10. 2016-02-05<br>11. other</td>\n",
       "      <td id=\"T_4d4ac_row0_col3\" class=\"data row0 col3\" >1 (0.1%)<br>1 (0.1%)<br>1 (0.1%)<br>1 (0.1%)<br>1 (0.1%)<br>1 (0.1%)<br>1 (0.1%)<br>1 (0.1%)<br>1 (0.1%)<br>1 (0.1%)<br>1,208 (99.2%)</td>\n",
       "      <td id=\"T_4d4ac_row0_col4\" class=\"data row0 col4\" ><img src = \"tmp\\df_oil_000.png\"></img></td>\n",
       "      <td id=\"T_4d4ac_row0_col5\" class=\"data row0 col5\" >0<br>(0.0%)</td>\n",
       "    </tr>\n",
       "    <tr>\n",
       "      <td id=\"T_4d4ac_row1_col0\" class=\"data row1 col0\" >2</td>\n",
       "      <td id=\"T_4d4ac_row1_col1\" class=\"data row1 col1\" ><strong>dcoilwtico</strong><br>[float64]</td>\n",
       "      <td id=\"T_4d4ac_row1_col2\" class=\"data row1 col2\" >Mean (sd) : 67.7 (25.6)<br>min < med < max:<br>26.2 < 53.2 < 110.6<br>IQR (CV) : 49.3 (2.6)</td>\n",
       "      <td id=\"T_4d4ac_row1_col3\" class=\"data row1 col3\" >998 distinct values</td>\n",
       "      <td id=\"T_4d4ac_row1_col4\" class=\"data row1 col4\" ><img src = \"tmp\\df_oil_001.png\"></img></td>\n",
       "      <td id=\"T_4d4ac_row1_col5\" class=\"data row1 col5\" >43<br>(3.5%)</td>\n",
       "    </tr>\n",
       "  </tbody>\n",
       "</table>\n",
       "\n",
       "    </div>\n",
       "    <style>\n",
       "    .st-collapsible {\n",
       "      background-color: #eee;\n",
       "      color: #444;\n",
       "      cursor: pointer;\n",
       "      padding: 10px;\n",
       "      width: 100%;\n",
       "      border: none;\n",
       "      text-align: left;\n",
       "      outline: none;\n",
       "      font-size: 14px;\n",
       "      border-radius: 0.5rem;\n",
       "    }\n",
       "\n",
       "    .active .st-collapsible:hover {\n",
       "      background-color: #ccc;\n",
       "    }\n",
       "\n",
       "    .st-content {\n",
       "      padding: 0 10px;\n",
       "      background-color: white;\n",
       "      max-height: 0;\n",
       "      overflow: hidden;\n",
       "      transition: max-height 0.2s ease-out;\n",
       "    }\n",
       "\n",
       "    .st-collapsible:after {\n",
       "      content: '+'; /* Unicode character for \"plus\" sign (+) */\n",
       "      color: #444;\n",
       "      font-weight: bold;\n",
       "      float: right;\n",
       "      margin-left: 5px;\n",
       "    }\n",
       "\n",
       "    .active:after {\n",
       "      content: '-';\n",
       "    }\n",
       "    </style><script>\n",
       "    function coll_toggle_7435(){\n",
       "        var coll = document.getElementById(\"btn-7435\");\n",
       "        var content = document.getElementById(\"cont-7435\");\n",
       "        coll.classList.toggle(\"active\");\n",
       "        if (content.style.maxHeight){\n",
       "          content.style.maxHeight = null;\n",
       "          coll.innerHTML = \"Show Summary - df_oil\";\n",
       "        } else {\n",
       "          content.style.maxHeight = content.scrollHeight + \"px\";\n",
       "          coll.innerHTML = \"Hide Summary - df_oil\";\n",
       "        }\n",
       "    }  \n",
       "\n",
       "    </script>"
      ],
      "text/plain": [
       "<IPython.core.display.HTML object>"
      ]
     },
     "execution_count": 18,
     "metadata": {},
     "output_type": "execute_result"
    }
   ],
   "source": [
    "dfSummary(df_oil, is_collapsible=True)"
   ]
  },
  {
   "cell_type": "code",
   "execution_count": 19,
   "id": "7f754c5e",
   "metadata": {},
   "outputs": [
    {
     "data": {
      "text/plain": [
       "False    1218\n",
       "dtype: int64"
      ]
     },
     "execution_count": 19,
     "metadata": {},
     "output_type": "execute_result"
    }
   ],
   "source": [
    "df_oil.duplicated().value_counts()"
   ]
  },
  {
   "cell_type": "markdown",
   "id": "87610f4b",
   "metadata": {},
   "source": [
    "<b>Observations about df_oil DataFrame<b>\n",
    "\n",
    "-There are 43 missing values in the dcoilwtico column.\n",
    "\n",
    "-There are no duplcate entries in the DataFrame.\n",
    "    \n",
    "-The date column is an object data type."
   ]
  },
  {
   "cell_type": "code",
   "execution_count": 20,
   "id": "71185d20",
   "metadata": {},
   "outputs": [],
   "source": [
    "#Change the date data type from object to date time\n",
    "\n",
    "df_oil['date']=pd.to_datetime(df_oil.date)"
   ]
  },
  {
   "cell_type": "markdown",
   "id": "8c406c6e",
   "metadata": {},
   "source": [
    "<b>Feature creation<b>\n",
    "\n",
    "For ease of analysis further down the line, I decided to create stand-alone columns for day,month and year using the date column."
   ]
  },
  {
   "cell_type": "code",
   "execution_count": 21,
   "id": "c0ad6514",
   "metadata": {},
   "outputs": [],
   "source": [
    "date = pd.to_datetime(df_oil['date'][0])"
   ]
  },
  {
   "cell_type": "code",
   "execution_count": 22,
   "id": "8478368c",
   "metadata": {},
   "outputs": [],
   "source": [
    "df_oil['Year']=date.year\n",
    "df_oil['Month']=date.month\n",
    "df_oil['Day Name']=date.day_name()"
   ]
  },
  {
   "cell_type": "code",
   "execution_count": 23,
   "id": "ecae9302",
   "metadata": {},
   "outputs": [],
   "source": [
    "#We now set the date as the index for the DataFrame\n",
    "\n",
    "df_oil = df_oil.set_index('date')"
   ]
  },
  {
   "cell_type": "code",
   "execution_count": 24,
   "id": "4ff37e4b",
   "metadata": {},
   "outputs": [
    {
     "data": {
      "text/html": [
       "<div>\n",
       "<style scoped>\n",
       "    .dataframe tbody tr th:only-of-type {\n",
       "        vertical-align: middle;\n",
       "    }\n",
       "\n",
       "    .dataframe tbody tr th {\n",
       "        vertical-align: top;\n",
       "    }\n",
       "\n",
       "    .dataframe thead th {\n",
       "        text-align: right;\n",
       "    }\n",
       "</style>\n",
       "<table border=\"1\" class=\"dataframe\">\n",
       "  <thead>\n",
       "    <tr style=\"text-align: right;\">\n",
       "      <th></th>\n",
       "      <th>dcoilwtico</th>\n",
       "      <th>Year</th>\n",
       "      <th>Month</th>\n",
       "      <th>Day Name</th>\n",
       "    </tr>\n",
       "    <tr>\n",
       "      <th>date</th>\n",
       "      <th></th>\n",
       "      <th></th>\n",
       "      <th></th>\n",
       "      <th></th>\n",
       "    </tr>\n",
       "  </thead>\n",
       "  <tbody>\n",
       "    <tr>\n",
       "      <th>2013-01-01</th>\n",
       "      <td>NaN</td>\n",
       "      <td>2013</td>\n",
       "      <td>1</td>\n",
       "      <td>Tuesday</td>\n",
       "    </tr>\n",
       "    <tr>\n",
       "      <th>2013-01-02</th>\n",
       "      <td>93.14</td>\n",
       "      <td>2013</td>\n",
       "      <td>1</td>\n",
       "      <td>Tuesday</td>\n",
       "    </tr>\n",
       "    <tr>\n",
       "      <th>2013-01-03</th>\n",
       "      <td>92.97</td>\n",
       "      <td>2013</td>\n",
       "      <td>1</td>\n",
       "      <td>Tuesday</td>\n",
       "    </tr>\n",
       "    <tr>\n",
       "      <th>2013-01-04</th>\n",
       "      <td>93.12</td>\n",
       "      <td>2013</td>\n",
       "      <td>1</td>\n",
       "      <td>Tuesday</td>\n",
       "    </tr>\n",
       "    <tr>\n",
       "      <th>2013-01-07</th>\n",
       "      <td>93.20</td>\n",
       "      <td>2013</td>\n",
       "      <td>1</td>\n",
       "      <td>Tuesday</td>\n",
       "    </tr>\n",
       "  </tbody>\n",
       "</table>\n",
       "</div>"
      ],
      "text/plain": [
       "            dcoilwtico  Year  Month Day Name\n",
       "date                                        \n",
       "2013-01-01         NaN  2013      1  Tuesday\n",
       "2013-01-02       93.14  2013      1  Tuesday\n",
       "2013-01-03       92.97  2013      1  Tuesday\n",
       "2013-01-04       93.12  2013      1  Tuesday\n",
       "2013-01-07       93.20  2013      1  Tuesday"
      ]
     },
     "execution_count": 24,
     "metadata": {},
     "output_type": "execute_result"
    }
   ],
   "source": [
    "df_oil.head()"
   ]
  },
  {
   "cell_type": "code",
   "execution_count": 25,
   "id": "32a62979",
   "metadata": {},
   "outputs": [
    {
     "data": {
      "text/plain": [
       "<AxesSubplot:xlabel='date'>"
      ]
     },
     "execution_count": 25,
     "metadata": {},
     "output_type": "execute_result"
    },
    {
     "data": {
      "image/png": "[encoded data removed]",
      "text/plain": [
       "<Figure size 1400x300 with 1 Axes>"
      ]
     },
     "metadata": {},
     "output_type": "display_data"
    }
   ],
   "source": [
    "plt.figure(figsize=(14,3))\n",
    "df_oil['dcoilwtico'].plot(linewidth=0.5)"
   ]
  },
  {
   "cell_type": "markdown",
   "id": "edeca6e8",
   "metadata": {},
   "source": [
    "-There are gaps in the plot that indicates missing oil price values for those points in time. The solution is to extrapolate the price for oil for the relevant dates.\n",
    "\n",
    "-There is clearly a downward trend in oil prices when viewd across the five (5) yeas under inspection.\n",
    "\n",
    "-Oil prices in 2013 to mid year 2014 stayed above $80 per barrel.\n",
    "\n",
    "-The prices started trending downwards from mid 2014 and hit its lowest price at ending of February 2016.\n",
    "\n",
    "-Price then rose to $50 a barrel in the second quarter of 2016.It has held steady since then."
   ]
  },
  {
   "cell_type": "markdown",
   "id": "583f8ebd",
   "metadata": {},
   "source": [
    "<b>MISSING VALUES IN OIL DATASET<b>"
   ]
  },
  {
   "cell_type": "code",
   "execution_count": 26,
   "id": "d197cb0b",
   "metadata": {},
   "outputs": [],
   "source": [
    "df_oil[\"dcoilwtico\"]=df_oil['dcoilwtico'].interpolate(method='linear')"
   ]
  },
  {
   "cell_type": "code",
   "execution_count": 27,
   "id": "807eec05",
   "metadata": {},
   "outputs": [
    {
     "data": {
      "image/png": "[encoded data removed]",
      "text/plain": [
       "<Figure size 1400x300 with 1 Axes>"
      ]
     },
     "metadata": {},
     "output_type": "display_data"
    }
   ],
   "source": [
    "plt.figure(figsize=(14,3))\n",
    "df_oil['dcoilwtico'].plot(linewidth=0.5);"
   ]
  },
  {
   "cell_type": "code",
   "execution_count": 28,
   "id": "b9b1aa95",
   "metadata": {},
   "outputs": [
    {
     "data": {
      "text/plain": [
       "dcoilwtico    1\n",
       "Year          0\n",
       "Month         0\n",
       "Day Name      0\n",
       "dtype: int64"
      ]
     },
     "execution_count": 28,
     "metadata": {},
     "output_type": "execute_result"
    }
   ],
   "source": [
    "df_oil.isnull().sum()"
   ]
  },
  {
   "cell_type": "markdown",
   "id": "98085383",
   "metadata": {},
   "source": [
    "<b>SAMPLE SUBMISSION DATASET<b>"
   ]
  },
  {
   "cell_type": "code",
   "execution_count": 29,
   "id": "de3b7662",
   "metadata": {},
   "outputs": [
    {
     "data": {
      "text/html": [
       "<div>\n",
       "<style scoped>\n",
       "    .dataframe tbody tr th:only-of-type {\n",
       "        vertical-align: middle;\n",
       "    }\n",
       "\n",
       "    .dataframe tbody tr th {\n",
       "        vertical-align: top;\n",
       "    }\n",
       "\n",
       "    .dataframe thead th {\n",
       "        text-align: right;\n",
       "    }\n",
       "</style>\n",
       "<table border=\"1\" class=\"dataframe\">\n",
       "  <thead>\n",
       "    <tr style=\"text-align: right;\">\n",
       "      <th></th>\n",
       "      <th>id</th>\n",
       "      <th>sales</th>\n",
       "    </tr>\n",
       "  </thead>\n",
       "  <tbody>\n",
       "    <tr>\n",
       "      <th>0</th>\n",
       "      <td>3000888</td>\n",
       "      <td>0.0</td>\n",
       "    </tr>\n",
       "    <tr>\n",
       "      <th>1</th>\n",
       "      <td>3000889</td>\n",
       "      <td>0.0</td>\n",
       "    </tr>\n",
       "    <tr>\n",
       "      <th>2</th>\n",
       "      <td>3000890</td>\n",
       "      <td>0.0</td>\n",
       "    </tr>\n",
       "    <tr>\n",
       "      <th>3</th>\n",
       "      <td>3000891</td>\n",
       "      <td>0.0</td>\n",
       "    </tr>\n",
       "    <tr>\n",
       "      <th>4</th>\n",
       "      <td>3000892</td>\n",
       "      <td>0.0</td>\n",
       "    </tr>\n",
       "  </tbody>\n",
       "</table>\n",
       "</div>"
      ],
      "text/plain": [
       "        id  sales\n",
       "0  3000888    0.0\n",
       "1  3000889    0.0\n",
       "2  3000890    0.0\n",
       "3  3000891    0.0\n",
       "4  3000892    0.0"
      ]
     },
     "execution_count": 29,
     "metadata": {},
     "output_type": "execute_result"
    }
   ],
   "source": [
    "df_sample_submission.head()"
   ]
  },
  {
   "cell_type": "markdown",
   "id": "5d620f3f",
   "metadata": {},
   "source": [
    "<b>Stores Dataset<b>"
   ]
  },
  {
   "cell_type": "code",
   "execution_count": 30,
   "id": "4b12f643",
   "metadata": {},
   "outputs": [
    {
     "data": {
      "text/html": [
       "<div>\n",
       "<style scoped>\n",
       "    .dataframe tbody tr th:only-of-type {\n",
       "        vertical-align: middle;\n",
       "    }\n",
       "\n",
       "    .dataframe tbody tr th {\n",
       "        vertical-align: top;\n",
       "    }\n",
       "\n",
       "    .dataframe thead th {\n",
       "        text-align: right;\n",
       "    }\n",
       "</style>\n",
       "<table border=\"1\" class=\"dataframe\">\n",
       "  <thead>\n",
       "    <tr style=\"text-align: right;\">\n",
       "      <th></th>\n",
       "      <th>store_nbr</th>\n",
       "      <th>city</th>\n",
       "      <th>state</th>\n",
       "      <th>type</th>\n",
       "      <th>cluster</th>\n",
       "    </tr>\n",
       "  </thead>\n",
       "  <tbody>\n",
       "    <tr>\n",
       "      <th>0</th>\n",
       "      <td>1</td>\n",
       "      <td>Quito</td>\n",
       "      <td>Pichincha</td>\n",
       "      <td>D</td>\n",
       "      <td>13</td>\n",
       "    </tr>\n",
       "    <tr>\n",
       "      <th>1</th>\n",
       "      <td>2</td>\n",
       "      <td>Quito</td>\n",
       "      <td>Pichincha</td>\n",
       "      <td>D</td>\n",
       "      <td>13</td>\n",
       "    </tr>\n",
       "    <tr>\n",
       "      <th>2</th>\n",
       "      <td>3</td>\n",
       "      <td>Quito</td>\n",
       "      <td>Pichincha</td>\n",
       "      <td>D</td>\n",
       "      <td>8</td>\n",
       "    </tr>\n",
       "    <tr>\n",
       "      <th>3</th>\n",
       "      <td>4</td>\n",
       "      <td>Quito</td>\n",
       "      <td>Pichincha</td>\n",
       "      <td>D</td>\n",
       "      <td>9</td>\n",
       "    </tr>\n",
       "    <tr>\n",
       "      <th>4</th>\n",
       "      <td>5</td>\n",
       "      <td>Santo Domingo</td>\n",
       "      <td>Santo Domingo de los Tsachilas</td>\n",
       "      <td>D</td>\n",
       "      <td>4</td>\n",
       "    </tr>\n",
       "  </tbody>\n",
       "</table>\n",
       "</div>"
      ],
      "text/plain": [
       "   store_nbr           city                           state type  cluster\n",
       "0          1          Quito                       Pichincha    D       13\n",
       "1          2          Quito                       Pichincha    D       13\n",
       "2          3          Quito                       Pichincha    D        8\n",
       "3          4          Quito                       Pichincha    D        9\n",
       "4          5  Santo Domingo  Santo Domingo de los Tsachilas    D        4"
      ]
     },
     "execution_count": 30,
     "metadata": {},
     "output_type": "execute_result"
    }
   ],
   "source": [
    "df_stores.head()"
   ]
  },
  {
   "cell_type": "code",
   "execution_count": 31,
   "id": "2a78a8ed",
   "metadata": {},
   "outputs": [
    {
     "name": "stdout",
     "output_type": "stream",
     "text": [
      "<class 'pandas.core.frame.DataFrame'>\n",
      "RangeIndex: 54 entries, 0 to 53\n",
      "Data columns (total 5 columns):\n",
      " #   Column     Non-Null Count  Dtype \n",
      "---  ------     --------------  ----- \n",
      " 0   store_nbr  54 non-null     int64 \n",
      " 1   city       54 non-null     object\n",
      " 2   state      54 non-null     object\n",
      " 3   type       54 non-null     object\n",
      " 4   cluster    54 non-null     int64 \n",
      "dtypes: int64(2), object(3)\n",
      "memory usage: 2.2+ KB\n"
     ]
    }
   ],
   "source": [
    "df_stores.info()"
   ]
  },
  {
   "cell_type": "code",
   "execution_count": 32,
   "id": "176807d4",
   "metadata": {},
   "outputs": [
    {
     "data": {
      "text/html": [
       "<button type=\"button\" class = \"st-collapsible\", \n",
       "    id = \"btn-9804\" onclick = \"coll_toggle_9804()\">Show Summary - df_stores</button>\n",
       "    <div class=\"st-content\" id=\"cont-9804\">\n",
       "      <style type=\"text/css\">\n",
       "#T_cd20c thead>tr>th {\n",
       "  text-align: left;\n",
       "}\n",
       "#T_cd20c_row0_col0, #T_cd20c_row1_col0, #T_cd20c_row2_col0, #T_cd20c_row3_col0, #T_cd20c_row4_col0 {\n",
       "  text-align: left;\n",
       "  font-size: 12px;\n",
       "  vertical-align: middle;\n",
       "  width: 5%;\n",
       "  max-width: 50px;\n",
       "  min-width: 20px;\n",
       "}\n",
       "#T_cd20c_row0_col1, #T_cd20c_row1_col1, #T_cd20c_row2_col1, #T_cd20c_row3_col1, #T_cd20c_row4_col1 {\n",
       "  text-align: left;\n",
       "  font-size: 12px;\n",
       "  vertical-align: middle;\n",
       "  width: 15%;\n",
       "  max-width: 200px;\n",
       "  min-width: 100px;\n",
       "  word-break: break-word;\n",
       "}\n",
       "#T_cd20c_row0_col2, #T_cd20c_row1_col2, #T_cd20c_row2_col2, #T_cd20c_row3_col2, #T_cd20c_row4_col2 {\n",
       "  text-align: left;\n",
       "  font-size: 12px;\n",
       "  vertical-align: middle;\n",
       "  width: 30%;\n",
       "  min-width: 100px;\n",
       "}\n",
       "#T_cd20c_row0_col3, #T_cd20c_row1_col3, #T_cd20c_row2_col3, #T_cd20c_row3_col3, #T_cd20c_row4_col3 {\n",
       "  text-align: left;\n",
       "  font-size: 12px;\n",
       "  vertical-align: middle;\n",
       "  width: 25%;\n",
       "  min-width: 100px;\n",
       "}\n",
       "#T_cd20c_row0_col4, #T_cd20c_row1_col4, #T_cd20c_row2_col4, #T_cd20c_row3_col4, #T_cd20c_row4_col4 {\n",
       "  text-align: left;\n",
       "  font-size: 12px;\n",
       "  vertical-align: middle;\n",
       "  width: 20%;\n",
       "  min-width: 150px;\n",
       "}\n",
       "#T_cd20c_row0_col5, #T_cd20c_row1_col5, #T_cd20c_row2_col5, #T_cd20c_row3_col5, #T_cd20c_row4_col5 {\n",
       "  text-align: left;\n",
       "  font-size: 12px;\n",
       "  vertical-align: middle;\n",
       "  width: 10%;\n",
       "}\n",
       "</style>\n",
       "<table id=\"T_cd20c\">\n",
       "  <caption><strong>Data Frame Summary</strong><br>df_stores<br>Dimensions: 54 x 5<br>Duplicates: 0</caption>\n",
       "  <thead>\n",
       "    <tr>\n",
       "      <th id=\"T_cd20c_level0_col0\" class=\"col_heading level0 col0\" >No</th>\n",
       "      <th id=\"T_cd20c_level0_col1\" class=\"col_heading level0 col1\" >Variable</th>\n",
       "      <th id=\"T_cd20c_level0_col2\" class=\"col_heading level0 col2\" >Stats / Values</th>\n",
       "      <th id=\"T_cd20c_level0_col3\" class=\"col_heading level0 col3\" >Freqs / (% of Valid)</th>\n",
       "      <th id=\"T_cd20c_level0_col4\" class=\"col_heading level0 col4\" >Graph</th>\n",
       "      <th id=\"T_cd20c_level0_col5\" class=\"col_heading level0 col5\" >Missing</th>\n",
       "    </tr>\n",
       "  </thead>\n",
       "  <tbody>\n",
       "    <tr>\n",
       "      <td id=\"T_cd20c_row0_col0\" class=\"data row0 col0\" >1</td>\n",
       "      <td id=\"T_cd20c_row0_col1\" class=\"data row0 col1\" ><strong>store_nbr</strong><br>[int64]</td>\n",
       "      <td id=\"T_cd20c_row0_col2\" class=\"data row0 col2\" >1. Quito<br>2. Guayaquil<br>3. Cuenca<br>4. Santo Domingo<br>5. Manta<br>6. Latacunga<br>7. Machala<br>8. Ambato<br>9. Quevedo<br>10. Esmeraldas<br>11. other</td>\n",
       "      <td id=\"T_cd20c_row0_col3\" class=\"data row0 col3\" >18 (33.3%)<br>8 (14.8%)<br>3 (5.6%)<br>3 (5.6%)<br>2 (3.7%)<br>2 (3.7%)<br>2 (3.7%)<br>2 (3.7%)<br>1 (1.9%)<br>1 (1.9%)<br>12 (22.2%)</td>\n",
       "      <td id=\"T_cd20c_row0_col4\" class=\"data row0 col4\" ><img src = \"tmp\\df_stores_001.png\"></img></td>\n",
       "      <td id=\"T_cd20c_row0_col5\" class=\"data row0 col5\" >0<br>(0.0%)</td>\n",
       "    </tr>\n",
       "    <tr>\n",
       "      <td id=\"T_cd20c_row1_col0\" class=\"data row1 col0\" >2</td>\n",
       "      <td id=\"T_cd20c_row1_col1\" class=\"data row1 col1\" ><strong>city</strong><br>[object]</td>\n",
       "      <td id=\"T_cd20c_row1_col2\" class=\"data row1 col2\" >1. Pichincha<br>2. Guayas<br>3. Santo Domingo de los Tsachilas<br>4. Azuay<br>5. Manabi<br>6. Cotopaxi<br>7. Tungurahua<br>8. Los Rios<br>9. El Oro<br>10. Chimborazo<br>11. other</td>\n",
       "      <td id=\"T_cd20c_row1_col3\" class=\"data row1 col3\" >19 (35.2%)<br>11 (20.4%)<br>3 (5.6%)<br>3 (5.6%)<br>3 (5.6%)<br>2 (3.7%)<br>2 (3.7%)<br>2 (3.7%)<br>2 (3.7%)<br>1 (1.9%)<br>6 (11.1%)</td>\n",
       "      <td id=\"T_cd20c_row1_col4\" class=\"data row1 col4\" ><img src = \"tmp\\df_stores_002.png\"></img></td>\n",
       "      <td id=\"T_cd20c_row1_col5\" class=\"data row1 col5\" >0<br>(0.0%)</td>\n",
       "    </tr>\n",
       "    <tr>\n",
       "      <td id=\"T_cd20c_row2_col0\" class=\"data row2 col0\" >3</td>\n",
       "      <td id=\"T_cd20c_row2_col1\" class=\"data row2 col1\" ><strong>state</strong><br>[object]</td>\n",
       "      <td id=\"T_cd20c_row2_col2\" class=\"data row2 col2\" >1. D<br>2. C<br>3. A<br>4. B<br>5. E</td>\n",
       "      <td id=\"T_cd20c_row2_col3\" class=\"data row2 col3\" >18 (33.3%)<br>15 (27.8%)<br>9 (16.7%)<br>8 (14.8%)<br>4 (7.4%)</td>\n",
       "      <td id=\"T_cd20c_row2_col4\" class=\"data row2 col4\" ><img src = \"tmp\\df_stores_003.png\"></img></td>\n",
       "      <td id=\"T_cd20c_row2_col5\" class=\"data row2 col5\" >0<br>(0.0%)</td>\n",
       "    </tr>\n",
       "    <tr>\n",
       "      <td id=\"T_cd20c_row3_col0\" class=\"data row3 col0\" >4</td>\n",
       "      <td id=\"T_cd20c_row3_col1\" class=\"data row3 col1\" ><strong>type</strong><br>[object]</td>\n",
       "      <td id=\"T_cd20c_row3_col2\" class=\"data row3 col2\" >nan</td>\n",
       "      <td id=\"T_cd20c_row3_col3\" class=\"data row3 col3\" >nan</td>\n",
       "      <td id=\"T_cd20c_row3_col4\" class=\"data row3 col4\" >nan</td>\n",
       "      <td id=\"T_cd20c_row3_col5\" class=\"data row3 col5\" >0<br>(0.0%)</td>\n",
       "    </tr>\n",
       "    <tr>\n",
       "      <td id=\"T_cd20c_row4_col0\" class=\"data row4 col0\" >5</td>\n",
       "      <td id=\"T_cd20c_row4_col1\" class=\"data row4 col1\" ><strong>cluster</strong><br>[int64]</td>\n",
       "      <td id=\"T_cd20c_row4_col2\" class=\"data row4 col2\" >nan</td>\n",
       "      <td id=\"T_cd20c_row4_col3\" class=\"data row4 col3\" >nan</td>\n",
       "      <td id=\"T_cd20c_row4_col4\" class=\"data row4 col4\" >nan</td>\n",
       "      <td id=\"T_cd20c_row4_col5\" class=\"data row4 col5\" >0<br>(0.0%)</td>\n",
       "    </tr>\n",
       "  </tbody>\n",
       "</table>\n",
       "\n",
       "    </div>\n",
       "    <style>\n",
       "    .st-collapsible {\n",
       "      background-color: #eee;\n",
       "      color: #444;\n",
       "      cursor: pointer;\n",
       "      padding: 10px;\n",
       "      width: 100%;\n",
       "      border: none;\n",
       "      text-align: left;\n",
       "      outline: none;\n",
       "      font-size: 14px;\n",
       "      border-radius: 0.5rem;\n",
       "    }\n",
       "\n",
       "    .active .st-collapsible:hover {\n",
       "      background-color: #ccc;\n",
       "    }\n",
       "\n",
       "    .st-content {\n",
       "      padding: 0 10px;\n",
       "      background-color: white;\n",
       "      max-height: 0;\n",
       "      overflow: hidden;\n",
       "      transition: max-height 0.2s ease-out;\n",
       "    }\n",
       "\n",
       "    .st-collapsible:after {\n",
       "      content: '+'; /* Unicode character for \"plus\" sign (+) */\n",
       "      color: #444;\n",
       "      font-weight: bold;\n",
       "      float: right;\n",
       "      margin-left: 5px;\n",
       "    }\n",
       "\n",
       "    .active:after {\n",
       "      content: '-';\n",
       "    }\n",
       "    </style><script>\n",
       "    function coll_toggle_9804(){\n",
       "        var coll = document.getElementById(\"btn-9804\");\n",
       "        var content = document.getElementById(\"cont-9804\");\n",
       "        coll.classList.toggle(\"active\");\n",
       "        if (content.style.maxHeight){\n",
       "          content.style.maxHeight = null;\n",
       "          coll.innerHTML = \"Show Summary - df_stores\";\n",
       "        } else {\n",
       "          content.style.maxHeight = content.scrollHeight + \"px\";\n",
       "          coll.innerHTML = \"Hide Summary - df_stores\";\n",
       "        }\n",
       "    }  \n",
       "\n",
       "    </script>"
      ],
      "text/plain": [
       "<IPython.core.display.HTML object>"
      ]
     },
     "execution_count": 32,
     "metadata": {},
     "output_type": "execute_result"
    }
   ],
   "source": [
    "dfSummary(df_stores, is_collapsible=True)"
   ]
  },
  {
   "cell_type": "markdown",
   "id": "8cd91809",
   "metadata": {},
   "source": [
    "<b>Observations about the stores dataset<b>\n",
    "\n",
    "-There are no duplicate entries.\n",
    "\n",
    "-There are no missing values.\n",
    "\n",
    "-All columns are in their expected data types."
   ]
  },
  {
   "cell_type": "code",
   "execution_count": 33,
   "id": "c7a8a7c9",
   "metadata": {},
   "outputs": [
    {
     "data": {
      "text/plain": [
       "False    54\n",
       "dtype: int64"
      ]
     },
     "execution_count": 33,
     "metadata": {},
     "output_type": "execute_result"
    }
   ],
   "source": [
    "df_stores.duplicated().value_counts()\n"
   ]
  },
  {
   "cell_type": "code",
   "execution_count": 34,
   "id": "701ceef1",
   "metadata": {},
   "outputs": [
    {
     "ename": "TypeError",
     "evalue": "barh() missing 1 required positional argument: 'width'",
     "output_type": "error",
     "traceback": [
      "\u001b[1;31m---------------------------------------------------------------------------\u001b[0m",
      "\u001b[1;31mTypeError\u001b[0m                                 Traceback (most recent call last)",
      "\u001b[1;32m~\\AppData\\Local\\Temp\\ipykernel_21488\\515466956.py\u001b[0m in \u001b[0;36m<module>\u001b[1;34m\u001b[0m\n\u001b[0;32m      6\u001b[0m \u001b[0mfig\u001b[0m\u001b[1;33m=\u001b[0m\u001b[0mplt\u001b[0m\u001b[1;33m.\u001b[0m\u001b[0mfigure\u001b[0m\u001b[1;33m(\u001b[0m\u001b[0mfigsize\u001b[0m\u001b[1;33m=\u001b[0m\u001b[1;33m(\u001b[0m\u001b[1;36m7\u001b[0m\u001b[1;33m,\u001b[0m\u001b[1;36m4\u001b[0m\u001b[1;33m)\u001b[0m\u001b[1;33m)\u001b[0m\u001b[1;33m\u001b[0m\u001b[1;33m\u001b[0m\u001b[0m\n\u001b[0;32m      7\u001b[0m \u001b[0max1\u001b[0m\u001b[1;33m=\u001b[0m\u001b[0mplt\u001b[0m\u001b[1;33m.\u001b[0m\u001b[0msubplot\u001b[0m\u001b[1;33m(\u001b[0m\u001b[1;36m1\u001b[0m\u001b[1;33m,\u001b[0m\u001b[1;36m1\u001b[0m\u001b[1;33m,\u001b[0m\u001b[1;36m1\u001b[0m\u001b[1;33m)\u001b[0m\u001b[1;33m\u001b[0m\u001b[1;33m\u001b[0m\u001b[0m\n\u001b[1;32m----> 8\u001b[1;33m \u001b[0max1\u001b[0m\u001b[1;33m.\u001b[0m\u001b[0mbarh\u001b[0m\u001b[1;33m(\u001b[0m\u001b[0mdf_stores\u001b[0m\u001b[1;33m.\u001b[0m\u001b[0mstate\u001b[0m\u001b[1;33m)\u001b[0m\u001b[1;33m\u001b[0m\u001b[1;33m\u001b[0m\u001b[0m\n\u001b[0m\u001b[0;32m      9\u001b[0m \u001b[0mplt\u001b[0m\u001b[1;33m.\u001b[0m\u001b[0mshow\u001b[0m\u001b[1;33m(\u001b[0m\u001b[1;33m)\u001b[0m\u001b[1;33m\u001b[0m\u001b[1;33m\u001b[0m\u001b[0m\n",
      "\u001b[1;31mTypeError\u001b[0m: barh() missing 1 required positional argument: 'width'"
     ]
    },
    {
     "data": {
      "image/png": "[encoded data removed]",
      "text/plain": [
       "<Figure size 700x400 with 1 Axes>"
      ]
     },
     "metadata": {},
     "output_type": "display_data"
    }
   ],
   "source": [
    "#Visualising the stores data set\n",
    "\n",
    "#store_plot=sns.catplot(data=df_stores,x='state',kind='count',orient='h')\n",
    "#store_plot.ax.set_xticklabels(store_plot.ax.get_xticklabels(), rotation=80);\n",
    "\n",
    "fig=plt.figure(figsize=(7,4))\n",
    "ax1=plt.subplot(1,1,1)\n",
    "ax1.barh(df_stores.state)\n",
    "plt.show()"
   ]
  },
  {
   "cell_type": "markdown",
   "id": "a8bb836e",
   "metadata": {},
   "source": [
    "<b>Observations of the state column<b>\n",
    "\n",
    "-Pichincha has the highest number of favorita stores.\n",
    "    \n",
    "-Guayas has the second highest number of stores."
   ]
  },
  {
   "cell_type": "code",
   "execution_count": 35,
   "id": "60aa47d1",
   "metadata": {},
   "outputs": [
    {
     "data": {
      "image/png": "[encoded data removed]",
      "text/plain": [
       "<Figure size 500x500 with 1 Axes>"
      ]
     },
     "metadata": {},
     "output_type": "display_data"
    }
   ],
   "source": [
    "store_plot=sns.catplot(data=df_stores,x='city',kind='count',orient='h')\n",
    "store_plot.ax.set_xticklabels(store_plot.ax.get_xticklabels(), rotation=85);"
   ]
  },
  {
   "cell_type": "markdown",
   "id": "807c8948",
   "metadata": {},
   "source": [
    "<b>Observations of the city column.<b>\n",
    "\n",
    "-The city of Quito which is the capital of Ecuador has the highest number of favorita stores.\n",
    "\n",
    "-Quito is located in the province of Pichincha this is consistent with the state visualization above.\n",
    "\n",
    "-This is followed by Guayaquil located in the province of Guayas,this is also consistent with the observations from the state visualization."
   ]
  },
  {
   "cell_type": "code",
   "execution_count": 36,
   "id": "44d1c256",
   "metadata": {},
   "outputs": [
    {
     "data": {
      "image/png": "[encoded data removed]",
      "text/plain": [
       "<Figure size 500x500 with 1 Axes>"
      ]
     },
     "metadata": {},
     "output_type": "display_data"
    }
   ],
   "source": [
    "store_plot=sns.catplot(data=df_stores,x='type',kind='count',orient='h')\n",
    "store_plot.ax.set_xticklabels(store_plot.ax.get_xticklabels());"
   ]
  },
  {
   "cell_type": "markdown",
   "id": "611ffc6c",
   "metadata": {},
   "source": [
    "<b>Observations of the store type column.<b>\n",
    "\n",
    "-The dominant store type is the D followed by C and A type."
   ]
  },
  {
   "cell_type": "code",
   "execution_count": 37,
   "id": "a86ed930",
   "metadata": {},
   "outputs": [
    {
     "data": {
      "image/png": "[encoded data removed]",
      "text/plain": [
       "<Figure size 500x500 with 1 Axes>"
      ]
     },
     "metadata": {},
     "output_type": "display_data"
    }
   ],
   "source": [
    "store_plot=sns.catplot(data=df_stores,x='cluster',kind='count',orient='h')\n",
    "store_plot.ax.set_xticklabels(store_plot.ax.get_xticklabels(), rotation=45);"
   ]
  },
  {
   "cell_type": "markdown",
   "id": "10a26c6f",
   "metadata": {},
   "source": [
    "<b>Observations of the cluster column<b>\n",
    "\n",
    "-Cluster 3,6,10 and 15 are the dominant clusters respectively."
   ]
  },
  {
   "cell_type": "markdown",
   "id": "33db5444",
   "metadata": {},
   "source": [
    "<b>TRANSACTIONS DATASET<b>"
   ]
  },
  {
   "cell_type": "code",
   "execution_count": 38,
   "id": "7443446d",
   "metadata": {},
   "outputs": [
    {
     "data": {
      "text/html": [
       "<div>\n",
       "<style scoped>\n",
       "    .dataframe tbody tr th:only-of-type {\n",
       "        vertical-align: middle;\n",
       "    }\n",
       "\n",
       "    .dataframe tbody tr th {\n",
       "        vertical-align: top;\n",
       "    }\n",
       "\n",
       "    .dataframe thead th {\n",
       "        text-align: right;\n",
       "    }\n",
       "</style>\n",
       "<table border=\"1\" class=\"dataframe\">\n",
       "  <thead>\n",
       "    <tr style=\"text-align: right;\">\n",
       "      <th></th>\n",
       "      <th>date</th>\n",
       "      <th>store_nbr</th>\n",
       "      <th>transactions</th>\n",
       "    </tr>\n",
       "  </thead>\n",
       "  <tbody>\n",
       "    <tr>\n",
       "      <th>0</th>\n",
       "      <td>2013-01-01</td>\n",
       "      <td>25</td>\n",
       "      <td>770</td>\n",
       "    </tr>\n",
       "    <tr>\n",
       "      <th>1</th>\n",
       "      <td>2013-01-02</td>\n",
       "      <td>1</td>\n",
       "      <td>2111</td>\n",
       "    </tr>\n",
       "    <tr>\n",
       "      <th>2</th>\n",
       "      <td>2013-01-02</td>\n",
       "      <td>2</td>\n",
       "      <td>2358</td>\n",
       "    </tr>\n",
       "    <tr>\n",
       "      <th>3</th>\n",
       "      <td>2013-01-02</td>\n",
       "      <td>3</td>\n",
       "      <td>3487</td>\n",
       "    </tr>\n",
       "    <tr>\n",
       "      <th>4</th>\n",
       "      <td>2013-01-02</td>\n",
       "      <td>4</td>\n",
       "      <td>1922</td>\n",
       "    </tr>\n",
       "  </tbody>\n",
       "</table>\n",
       "</div>"
      ],
      "text/plain": [
       "         date  store_nbr  transactions\n",
       "0  2013-01-01         25           770\n",
       "1  2013-01-02          1          2111\n",
       "2  2013-01-02          2          2358\n",
       "3  2013-01-02          3          3487\n",
       "4  2013-01-02          4          1922"
      ]
     },
     "execution_count": 38,
     "metadata": {},
     "output_type": "execute_result"
    }
   ],
   "source": [
    "df_transactions.head()"
   ]
  },
  {
   "cell_type": "code",
   "execution_count": 39,
   "id": "61531ac6",
   "metadata": {},
   "outputs": [
    {
     "name": "stdout",
     "output_type": "stream",
     "text": [
      "<class 'pandas.core.frame.DataFrame'>\n",
      "RangeIndex: 83488 entries, 0 to 83487\n",
      "Data columns (total 3 columns):\n",
      " #   Column        Non-Null Count  Dtype \n",
      "---  ------        --------------  ----- \n",
      " 0   date          83488 non-null  object\n",
      " 1   store_nbr     83488 non-null  int64 \n",
      " 2   transactions  83488 non-null  int64 \n",
      "dtypes: int64(2), object(1)\n",
      "memory usage: 1.9+ MB\n"
     ]
    }
   ],
   "source": [
    "df_transactions.info()"
   ]
  },
  {
   "cell_type": "code",
   "execution_count": 40,
   "id": "69a73703",
   "metadata": {},
   "outputs": [
    {
     "data": {
      "text/html": [
       "<button type=\"button\" class = \"st-collapsible\", \n",
       "    id = \"btn-1103\" onclick = \"coll_toggle_1103()\">Show Summary - df_transactions</button>\n",
       "    <div class=\"st-content\" id=\"cont-1103\">\n",
       "      <style type=\"text/css\">\n",
       "#T_588a6 thead>tr>th {\n",
       "  text-align: left;\n",
       "}\n",
       "#T_588a6_row0_col0, #T_588a6_row1_col0, #T_588a6_row2_col0 {\n",
       "  text-align: left;\n",
       "  font-size: 12px;\n",
       "  vertical-align: middle;\n",
       "  width: 5%;\n",
       "  max-width: 50px;\n",
       "  min-width: 20px;\n",
       "}\n",
       "#T_588a6_row0_col1, #T_588a6_row1_col1, #T_588a6_row2_col1 {\n",
       "  text-align: left;\n",
       "  font-size: 12px;\n",
       "  vertical-align: middle;\n",
       "  width: 15%;\n",
       "  max-width: 200px;\n",
       "  min-width: 100px;\n",
       "  word-break: break-word;\n",
       "}\n",
       "#T_588a6_row0_col2, #T_588a6_row1_col2, #T_588a6_row2_col2 {\n",
       "  text-align: left;\n",
       "  font-size: 12px;\n",
       "  vertical-align: middle;\n",
       "  width: 30%;\n",
       "  min-width: 100px;\n",
       "}\n",
       "#T_588a6_row0_col3, #T_588a6_row1_col3, #T_588a6_row2_col3 {\n",
       "  text-align: left;\n",
       "  font-size: 12px;\n",
       "  vertical-align: middle;\n",
       "  width: 25%;\n",
       "  min-width: 100px;\n",
       "}\n",
       "#T_588a6_row0_col4, #T_588a6_row1_col4, #T_588a6_row2_col4 {\n",
       "  text-align: left;\n",
       "  font-size: 12px;\n",
       "  vertical-align: middle;\n",
       "  width: 20%;\n",
       "  min-width: 150px;\n",
       "}\n",
       "#T_588a6_row0_col5, #T_588a6_row1_col5, #T_588a6_row2_col5 {\n",
       "  text-align: left;\n",
       "  font-size: 12px;\n",
       "  vertical-align: middle;\n",
       "  width: 10%;\n",
       "}\n",
       "</style>\n",
       "<table id=\"T_588a6\">\n",
       "  <caption><strong>Data Frame Summary</strong><br>df_transactions<br>Dimensions: 83,488 x 3<br>Duplicates: 0</caption>\n",
       "  <thead>\n",
       "    <tr>\n",
       "      <th id=\"T_588a6_level0_col0\" class=\"col_heading level0 col0\" >No</th>\n",
       "      <th id=\"T_588a6_level0_col1\" class=\"col_heading level0 col1\" >Variable</th>\n",
       "      <th id=\"T_588a6_level0_col2\" class=\"col_heading level0 col2\" >Stats / Values</th>\n",
       "      <th id=\"T_588a6_level0_col3\" class=\"col_heading level0 col3\" >Freqs / (% of Valid)</th>\n",
       "      <th id=\"T_588a6_level0_col4\" class=\"col_heading level0 col4\" >Graph</th>\n",
       "      <th id=\"T_588a6_level0_col5\" class=\"col_heading level0 col5\" >Missing</th>\n",
       "    </tr>\n",
       "  </thead>\n",
       "  <tbody>\n",
       "    <tr>\n",
       "      <td id=\"T_588a6_row0_col0\" class=\"data row0 col0\" >1</td>\n",
       "      <td id=\"T_588a6_row0_col1\" class=\"data row0 col1\" ><strong>date</strong><br>[object]</td>\n",
       "      <td id=\"T_588a6_row0_col2\" class=\"data row0 col2\" >1. 2017-08-15<br>2. 2017-06-02<br>3. 2017-05-21<br>4. 2017-05-22<br>5. 2017-05-23<br>6. 2017-05-24<br>7. 2017-05-25<br>8. 2017-05-26<br>9. 2017-05-27<br>10. 2017-05-28<br>11. other</td>\n",
       "      <td id=\"T_588a6_row0_col3\" class=\"data row0 col3\" >54 (0.1%)<br>54 (0.1%)<br>54 (0.1%)<br>54 (0.1%)<br>54 (0.1%)<br>54 (0.1%)<br>54 (0.1%)<br>54 (0.1%)<br>54 (0.1%)<br>54 (0.1%)<br>82,948 (99.4%)</td>\n",
       "      <td id=\"T_588a6_row0_col4\" class=\"data row0 col4\" ><img src = \"tmp\\df_transactions_000.png\"></img></td>\n",
       "      <td id=\"T_588a6_row0_col5\" class=\"data row0 col5\" >0<br>(0.0%)</td>\n",
       "    </tr>\n",
       "    <tr>\n",
       "      <td id=\"T_588a6_row1_col0\" class=\"data row1 col0\" >2</td>\n",
       "      <td id=\"T_588a6_row1_col1\" class=\"data row1 col1\" ><strong>store_nbr</strong><br>[int64]</td>\n",
       "      <td id=\"T_588a6_row1_col2\" class=\"data row1 col2\" >nan</td>\n",
       "      <td id=\"T_588a6_row1_col3\" class=\"data row1 col3\" >nan</td>\n",
       "      <td id=\"T_588a6_row1_col4\" class=\"data row1 col4\" >nan</td>\n",
       "      <td id=\"T_588a6_row1_col5\" class=\"data row1 col5\" >0<br>(0.0%)</td>\n",
       "    </tr>\n",
       "    <tr>\n",
       "      <td id=\"T_588a6_row2_col0\" class=\"data row2 col0\" >3</td>\n",
       "      <td id=\"T_588a6_row2_col1\" class=\"data row2 col1\" ><strong>transactions</strong><br>[int64]</td>\n",
       "      <td id=\"T_588a6_row2_col2\" class=\"data row2 col2\" >nan</td>\n",
       "      <td id=\"T_588a6_row2_col3\" class=\"data row2 col3\" >nan</td>\n",
       "      <td id=\"T_588a6_row2_col4\" class=\"data row2 col4\" >nan</td>\n",
       "      <td id=\"T_588a6_row2_col5\" class=\"data row2 col5\" >0<br>(0.0%)</td>\n",
       "    </tr>\n",
       "  </tbody>\n",
       "</table>\n",
       "\n",
       "    </div>\n",
       "    <style>\n",
       "    .st-collapsible {\n",
       "      background-color: #eee;\n",
       "      color: #444;\n",
       "      cursor: pointer;\n",
       "      padding: 10px;\n",
       "      width: 100%;\n",
       "      border: none;\n",
       "      text-align: left;\n",
       "      outline: none;\n",
       "      font-size: 14px;\n",
       "      border-radius: 0.5rem;\n",
       "    }\n",
       "\n",
       "    .active .st-collapsible:hover {\n",
       "      background-color: #ccc;\n",
       "    }\n",
       "\n",
       "    .st-content {\n",
       "      padding: 0 10px;\n",
       "      background-color: white;\n",
       "      max-height: 0;\n",
       "      overflow: hidden;\n",
       "      transition: max-height 0.2s ease-out;\n",
       "    }\n",
       "\n",
       "    .st-collapsible:after {\n",
       "      content: '+'; /* Unicode character for \"plus\" sign (+) */\n",
       "      color: #444;\n",
       "      font-weight: bold;\n",
       "      float: right;\n",
       "      margin-left: 5px;\n",
       "    }\n",
       "\n",
       "    .active:after {\n",
       "      content: '-';\n",
       "    }\n",
       "    </style><script>\n",
       "    function coll_toggle_1103(){\n",
       "        var coll = document.getElementById(\"btn-1103\");\n",
       "        var content = document.getElementById(\"cont-1103\");\n",
       "        coll.classList.toggle(\"active\");\n",
       "        if (content.style.maxHeight){\n",
       "          content.style.maxHeight = null;\n",
       "          coll.innerHTML = \"Show Summary - df_transactions\";\n",
       "        } else {\n",
       "          content.style.maxHeight = content.scrollHeight + \"px\";\n",
       "          coll.innerHTML = \"Hide Summary - df_transactions\";\n",
       "        }\n",
       "    }  \n",
       "\n",
       "    </script>"
      ],
      "text/plain": [
       "<IPython.core.display.HTML object>"
      ]
     },
     "execution_count": 40,
     "metadata": {},
     "output_type": "execute_result"
    }
   ],
   "source": [
    "dfSummary(df_transactions,is_collapsible=True)"
   ]
  },
  {
   "cell_type": "code",
   "execution_count": 41,
   "id": "7692f4e8",
   "metadata": {},
   "outputs": [
    {
     "data": {
      "text/plain": [
       "False    83488\n",
       "dtype: int64"
      ]
     },
     "execution_count": 41,
     "metadata": {},
     "output_type": "execute_result"
    }
   ],
   "source": [
    "#Check for duplicate entries\n",
    "df_transactions.duplicated().value_counts()"
   ]
  },
  {
   "cell_type": "markdown",
   "id": "d0494010",
   "metadata": {},
   "source": [
    "<b>Observations about Transactions dataset<b>\n",
    "    \n",
    "-There are no duplicate entries.\n",
    " \n",
    "-There are no null values.\n",
    "    \n",
    "-The date column is an object data type."
   ]
  },
  {
   "cell_type": "code",
   "execution_count": 42,
   "id": "71d46348",
   "metadata": {},
   "outputs": [],
   "source": [
    "#Convert date from Object to Datetime\n",
    "\n",
    "\n",
    "df_transactions['date']=pd.to_datetime(df_transactions.date)"
   ]
  },
  {
   "cell_type": "markdown",
   "id": "5442f226",
   "metadata": {},
   "source": [
    "<b>Feature Creation<b>\n",
    "    \n",
    "For ease of analysis further down the line, I decided to create stand-alone columns for day,month and year using the date column."
   ]
  },
  {
   "cell_type": "code",
   "execution_count": 43,
   "id": "85ecc42e",
   "metadata": {},
   "outputs": [],
   "source": [
    "date = pd.to_datetime(df_transactions['date'][0])"
   ]
  },
  {
   "cell_type": "code",
   "execution_count": 44,
   "id": "954ad20a",
   "metadata": {},
   "outputs": [],
   "source": [
    "df_transactions['Year']=date.year\n",
    "df_transactions['Month']=date.month\n",
    "df_transactions['Day Name']=date.day_name()"
   ]
  },
  {
   "cell_type": "code",
   "execution_count": 45,
   "id": "94e02427",
   "metadata": {},
   "outputs": [],
   "source": [
    "#We now set the date as the index for the DataFrame\n",
    "\n",
    "df_transactions = df_transactions.set_index('date')"
   ]
  },
  {
   "cell_type": "code",
   "execution_count": 46,
   "id": "4cde5145",
   "metadata": {},
   "outputs": [
    {
     "data": {
      "text/html": [
       "<div>\n",
       "<style scoped>\n",
       "    .dataframe tbody tr th:only-of-type {\n",
       "        vertical-align: middle;\n",
       "    }\n",
       "\n",
       "    .dataframe tbody tr th {\n",
       "        vertical-align: top;\n",
       "    }\n",
       "\n",
       "    .dataframe thead th {\n",
       "        text-align: right;\n",
       "    }\n",
       "</style>\n",
       "<table border=\"1\" class=\"dataframe\">\n",
       "  <thead>\n",
       "    <tr style=\"text-align: right;\">\n",
       "      <th></th>\n",
       "      <th>store_nbr</th>\n",
       "      <th>transactions</th>\n",
       "      <th>Year</th>\n",
       "      <th>Month</th>\n",
       "      <th>Day Name</th>\n",
       "    </tr>\n",
       "    <tr>\n",
       "      <th>date</th>\n",
       "      <th></th>\n",
       "      <th></th>\n",
       "      <th></th>\n",
       "      <th></th>\n",
       "      <th></th>\n",
       "    </tr>\n",
       "  </thead>\n",
       "  <tbody>\n",
       "    <tr>\n",
       "      <th>2013-01-01</th>\n",
       "      <td>25</td>\n",
       "      <td>770</td>\n",
       "      <td>2013</td>\n",
       "      <td>1</td>\n",
       "      <td>Tuesday</td>\n",
       "    </tr>\n",
       "    <tr>\n",
       "      <th>2013-01-02</th>\n",
       "      <td>1</td>\n",
       "      <td>2111</td>\n",
       "      <td>2013</td>\n",
       "      <td>1</td>\n",
       "      <td>Tuesday</td>\n",
       "    </tr>\n",
       "    <tr>\n",
       "      <th>2013-01-02</th>\n",
       "      <td>2</td>\n",
       "      <td>2358</td>\n",
       "      <td>2013</td>\n",
       "      <td>1</td>\n",
       "      <td>Tuesday</td>\n",
       "    </tr>\n",
       "    <tr>\n",
       "      <th>2013-01-02</th>\n",
       "      <td>3</td>\n",
       "      <td>3487</td>\n",
       "      <td>2013</td>\n",
       "      <td>1</td>\n",
       "      <td>Tuesday</td>\n",
       "    </tr>\n",
       "    <tr>\n",
       "      <th>2013-01-02</th>\n",
       "      <td>4</td>\n",
       "      <td>1922</td>\n",
       "      <td>2013</td>\n",
       "      <td>1</td>\n",
       "      <td>Tuesday</td>\n",
       "    </tr>\n",
       "  </tbody>\n",
       "</table>\n",
       "</div>"
      ],
      "text/plain": [
       "            store_nbr  transactions  Year  Month Day Name\n",
       "date                                                     \n",
       "2013-01-01         25           770  2013      1  Tuesday\n",
       "2013-01-02          1          2111  2013      1  Tuesday\n",
       "2013-01-02          2          2358  2013      1  Tuesday\n",
       "2013-01-02          3          3487  2013      1  Tuesday\n",
       "2013-01-02          4          1922  2013      1  Tuesday"
      ]
     },
     "execution_count": 46,
     "metadata": {},
     "output_type": "execute_result"
    }
   ],
   "source": [
    "df_transactions.head()"
   ]
  },
  {
   "cell_type": "code",
   "execution_count": 47,
   "id": "bceb549f",
   "metadata": {},
   "outputs": [
    {
     "data": {
      "image/png": "[encoded data removed]",
      "text/plain": [
       "<Figure size 1200x500 with 1 Axes>"
      ]
     },
     "metadata": {},
     "output_type": "display_data"
    }
   ],
   "source": [
    "#Visualizing the transactions dataset\n",
    "plt.figure(figsize=(12,5))\n",
    "plt.plot(df_transactions.transactions);"
   ]
  },
  {
   "cell_type": "markdown",
   "id": "795c4363",
   "metadata": {},
   "source": [
    "-There is seasonality in transactions volumes across the years under review.\n",
    "\n",
    "-The spike in transactions coincides with the shopping frenzy just before the christmas holidays.\n"
   ]
  },
  {
   "cell_type": "code",
   "execution_count": 48,
   "id": "f2b8c575",
   "metadata": {},
   "outputs": [
    {
     "data": {
      "image/png": "[encoded data removed]",
      "text/plain": [
       "<Figure size 500x500 with 1 Axes>"
      ]
     },
     "metadata": {},
     "output_type": "display_data"
    }
   ],
   "source": [
    "\n",
    "transaction_plot = sns.catplot(data=df_transactions, x='store_nbr', kind='count', orient='v')\n",
    "transaction_plot.ax.set_xticklabels(transaction_plot.ax.get_xticklabels(), rotation=90);"
   ]
  },
  {
   "cell_type": "markdown",
   "id": "391a25bc",
   "metadata": {},
   "source": [
    "<b>TRAIN DATASET<b>"
   ]
  },
  {
   "cell_type": "code",
   "execution_count": 49,
   "id": "84f91ff0",
   "metadata": {},
   "outputs": [
    {
     "data": {
      "text/html": [
       "<div>\n",
       "<style scoped>\n",
       "    .dataframe tbody tr th:only-of-type {\n",
       "        vertical-align: middle;\n",
       "    }\n",
       "\n",
       "    .dataframe tbody tr th {\n",
       "        vertical-align: top;\n",
       "    }\n",
       "\n",
       "    .dataframe thead th {\n",
       "        text-align: right;\n",
       "    }\n",
       "</style>\n",
       "<table border=\"1\" class=\"dataframe\">\n",
       "  <thead>\n",
       "    <tr style=\"text-align: right;\">\n",
       "      <th></th>\n",
       "      <th>id</th>\n",
       "      <th>date</th>\n",
       "      <th>store_nbr</th>\n",
       "      <th>family</th>\n",
       "      <th>sales</th>\n",
       "      <th>onpromotion</th>\n",
       "    </tr>\n",
       "  </thead>\n",
       "  <tbody>\n",
       "    <tr>\n",
       "      <th>0</th>\n",
       "      <td>0</td>\n",
       "      <td>2013-01-01</td>\n",
       "      <td>1</td>\n",
       "      <td>AUTOMOTIVE</td>\n",
       "      <td>0.0</td>\n",
       "      <td>0</td>\n",
       "    </tr>\n",
       "    <tr>\n",
       "      <th>1</th>\n",
       "      <td>1</td>\n",
       "      <td>2013-01-01</td>\n",
       "      <td>1</td>\n",
       "      <td>BABY CARE</td>\n",
       "      <td>0.0</td>\n",
       "      <td>0</td>\n",
       "    </tr>\n",
       "    <tr>\n",
       "      <th>2</th>\n",
       "      <td>2</td>\n",
       "      <td>2013-01-01</td>\n",
       "      <td>1</td>\n",
       "      <td>BEAUTY</td>\n",
       "      <td>0.0</td>\n",
       "      <td>0</td>\n",
       "    </tr>\n",
       "    <tr>\n",
       "      <th>3</th>\n",
       "      <td>3</td>\n",
       "      <td>2013-01-01</td>\n",
       "      <td>1</td>\n",
       "      <td>BEVERAGES</td>\n",
       "      <td>0.0</td>\n",
       "      <td>0</td>\n",
       "    </tr>\n",
       "    <tr>\n",
       "      <th>4</th>\n",
       "      <td>4</td>\n",
       "      <td>2013-01-01</td>\n",
       "      <td>1</td>\n",
       "      <td>BOOKS</td>\n",
       "      <td>0.0</td>\n",
       "      <td>0</td>\n",
       "    </tr>\n",
       "  </tbody>\n",
       "</table>\n",
       "</div>"
      ],
      "text/plain": [
       "   id        date  store_nbr      family  sales  onpromotion\n",
       "0   0  2013-01-01          1  AUTOMOTIVE    0.0            0\n",
       "1   1  2013-01-01          1   BABY CARE    0.0            0\n",
       "2   2  2013-01-01          1      BEAUTY    0.0            0\n",
       "3   3  2013-01-01          1   BEVERAGES    0.0            0\n",
       "4   4  2013-01-01          1       BOOKS    0.0            0"
      ]
     },
     "execution_count": 49,
     "metadata": {},
     "output_type": "execute_result"
    }
   ],
   "source": [
    "train_set.head()"
   ]
  },
  {
   "cell_type": "code",
   "execution_count": 50,
   "id": "1fd5593c",
   "metadata": {},
   "outputs": [
    {
     "name": "stdout",
     "output_type": "stream",
     "text": [
      "<class 'pandas.core.frame.DataFrame'>\n",
      "RangeIndex: 3000888 entries, 0 to 3000887\n",
      "Data columns (total 6 columns):\n",
      " #   Column       Dtype  \n",
      "---  ------       -----  \n",
      " 0   id           int64  \n",
      " 1   date         object \n",
      " 2   store_nbr    int64  \n",
      " 3   family       object \n",
      " 4   sales        float64\n",
      " 5   onpromotion  int64  \n",
      "dtypes: float64(1), int64(3), object(2)\n",
      "memory usage: 137.4+ MB\n"
     ]
    }
   ],
   "source": [
    "train_set.info()"
   ]
  },
  {
   "cell_type": "code",
   "execution_count": 51,
   "id": "fac79b02",
   "metadata": {},
   "outputs": [
    {
     "data": {
      "text/html": [
       "<button type=\"button\" class = \"st-collapsible\", \n",
       "    id = \"btn-8575\" onclick = \"coll_toggle_8575()\">Show Summary - train_set</button>\n",
       "    <div class=\"st-content\" id=\"cont-8575\">\n",
       "      <style type=\"text/css\">\n",
       "#T_2b5de thead>tr>th {\n",
       "  text-align: left;\n",
       "}\n",
       "#T_2b5de_row0_col0, #T_2b5de_row1_col0, #T_2b5de_row2_col0, #T_2b5de_row3_col0, #T_2b5de_row4_col0, #T_2b5de_row5_col0 {\n",
       "  text-align: left;\n",
       "  font-size: 12px;\n",
       "  vertical-align: middle;\n",
       "  width: 5%;\n",
       "  max-width: 50px;\n",
       "  min-width: 20px;\n",
       "}\n",
       "#T_2b5de_row0_col1, #T_2b5de_row1_col1, #T_2b5de_row2_col1, #T_2b5de_row3_col1, #T_2b5de_row4_col1, #T_2b5de_row5_col1 {\n",
       "  text-align: left;\n",
       "  font-size: 12px;\n",
       "  vertical-align: middle;\n",
       "  width: 15%;\n",
       "  max-width: 200px;\n",
       "  min-width: 100px;\n",
       "  word-break: break-word;\n",
       "}\n",
       "#T_2b5de_row0_col2, #T_2b5de_row1_col2, #T_2b5de_row2_col2, #T_2b5de_row3_col2, #T_2b5de_row4_col2, #T_2b5de_row5_col2 {\n",
       "  text-align: left;\n",
       "  font-size: 12px;\n",
       "  vertical-align: middle;\n",
       "  width: 30%;\n",
       "  min-width: 100px;\n",
       "}\n",
       "#T_2b5de_row0_col3, #T_2b5de_row1_col3, #T_2b5de_row2_col3, #T_2b5de_row3_col3, #T_2b5de_row4_col3, #T_2b5de_row5_col3 {\n",
       "  text-align: left;\n",
       "  font-size: 12px;\n",
       "  vertical-align: middle;\n",
       "  width: 25%;\n",
       "  min-width: 100px;\n",
       "}\n",
       "#T_2b5de_row0_col4, #T_2b5de_row1_col4, #T_2b5de_row2_col4, #T_2b5de_row3_col4, #T_2b5de_row4_col4, #T_2b5de_row5_col4 {\n",
       "  text-align: left;\n",
       "  font-size: 12px;\n",
       "  vertical-align: middle;\n",
       "  width: 20%;\n",
       "  min-width: 150px;\n",
       "}\n",
       "#T_2b5de_row0_col5, #T_2b5de_row1_col5, #T_2b5de_row2_col5, #T_2b5de_row3_col5, #T_2b5de_row4_col5, #T_2b5de_row5_col5 {\n",
       "  text-align: left;\n",
       "  font-size: 12px;\n",
       "  vertical-align: middle;\n",
       "  width: 10%;\n",
       "}\n",
       "</style>\n",
       "<table id=\"T_2b5de\">\n",
       "  <caption><strong>Data Frame Summary</strong><br>train_set<br>Dimensions: 3,000,888 x 6<br>Duplicates: 0</caption>\n",
       "  <thead>\n",
       "    <tr>\n",
       "      <th id=\"T_2b5de_level0_col0\" class=\"col_heading level0 col0\" >No</th>\n",
       "      <th id=\"T_2b5de_level0_col1\" class=\"col_heading level0 col1\" >Variable</th>\n",
       "      <th id=\"T_2b5de_level0_col2\" class=\"col_heading level0 col2\" >Stats / Values</th>\n",
       "      <th id=\"T_2b5de_level0_col3\" class=\"col_heading level0 col3\" >Freqs / (% of Valid)</th>\n",
       "      <th id=\"T_2b5de_level0_col4\" class=\"col_heading level0 col4\" >Graph</th>\n",
       "      <th id=\"T_2b5de_level0_col5\" class=\"col_heading level0 col5\" >Missing</th>\n",
       "    </tr>\n",
       "  </thead>\n",
       "  <tbody>\n",
       "    <tr>\n",
       "      <td id=\"T_2b5de_row0_col0\" class=\"data row0 col0\" >1</td>\n",
       "      <td id=\"T_2b5de_row0_col1\" class=\"data row0 col1\" ><strong>id</strong><br>[int64]</td>\n",
       "      <td id=\"T_2b5de_row0_col2\" class=\"data row0 col2\" >1. 2013-01-01<br>2. 2016-01-15<br>3. 2016-02-08<br>4. 2016-02-07<br>5. 2016-02-06<br>6. 2016-02-05<br>7. 2016-02-04<br>8. 2016-02-03<br>9. 2016-02-02<br>10. 2016-02-01<br>11. other</td>\n",
       "      <td id=\"T_2b5de_row0_col3\" class=\"data row0 col3\" >1,782 (0.1%)<br>1,782 (0.1%)<br>1,782 (0.1%)<br>1,782 (0.1%)<br>1,782 (0.1%)<br>1,782 (0.1%)<br>1,782 (0.1%)<br>1,782 (0.1%)<br>1,782 (0.1%)<br>1,782 (0.1%)<br>2,983,068 (99.4%)</td>\n",
       "      <td id=\"T_2b5de_row0_col4\" class=\"data row0 col4\" ><img src = \"tmp\\train_set_001.png\"></img></td>\n",
       "      <td id=\"T_2b5de_row0_col5\" class=\"data row0 col5\" >0<br>(0.0%)</td>\n",
       "    </tr>\n",
       "    <tr>\n",
       "      <td id=\"T_2b5de_row1_col0\" class=\"data row1 col0\" >2</td>\n",
       "      <td id=\"T_2b5de_row1_col1\" class=\"data row1 col1\" ><strong>date</strong><br>[object]</td>\n",
       "      <td id=\"T_2b5de_row1_col2\" class=\"data row1 col2\" >1. AUTOMOTIVE<br>2. HOME APPLIANCES<br>3. SCHOOL AND OFFICE SUPPLIES<br>4. PRODUCE<br>5. PREPARED FOODS<br>6. POULTRY<br>7. PLAYERS AND ELECTRONICS<br>8. PET SUPPLIES<br>9. PERSONAL CARE<br>10. MEATS<br>11. other</td>\n",
       "      <td id=\"T_2b5de_row1_col3\" class=\"data row1 col3\" >90,936 (3.0%)<br>90,936 (3.0%)<br>90,936 (3.0%)<br>90,936 (3.0%)<br>90,936 (3.0%)<br>90,936 (3.0%)<br>90,936 (3.0%)<br>90,936 (3.0%)<br>90,936 (3.0%)<br>90,936 (3.0%)<br>2,091,528 (69.7%)</td>\n",
       "      <td id=\"T_2b5de_row1_col4\" class=\"data row1 col4\" ><img src = \"tmp\\train_set_003.png\"></img></td>\n",
       "      <td id=\"T_2b5de_row1_col5\" class=\"data row1 col5\" >0<br>(0.0%)</td>\n",
       "    </tr>\n",
       "    <tr>\n",
       "      <td id=\"T_2b5de_row2_col0\" class=\"data row2 col0\" >3</td>\n",
       "      <td id=\"T_2b5de_row2_col1\" class=\"data row2 col1\" ><strong>store_nbr</strong><br>[int64]</td>\n",
       "      <td id=\"T_2b5de_row2_col2\" class=\"data row2 col2\" >Mean (sd) : 357.8 (1102.0)<br>min < med < max:<br>0.0 < 11.0 < 124717.0<br>IQR (CV) : 195.8 (0.3)</td>\n",
       "      <td id=\"T_2b5de_row2_col3\" class=\"data row2 col3\" >379,610 distinct values</td>\n",
       "      <td id=\"T_2b5de_row2_col4\" class=\"data row2 col4\" ><img src = \"tmp\\train_set_004.png\"></img></td>\n",
       "      <td id=\"T_2b5de_row2_col5\" class=\"data row2 col5\" >0<br>(0.0%)</td>\n",
       "    </tr>\n",
       "    <tr>\n",
       "      <td id=\"T_2b5de_row3_col0\" class=\"data row3 col0\" >4</td>\n",
       "      <td id=\"T_2b5de_row3_col1\" class=\"data row3 col1\" ><strong>family</strong><br>[object]</td>\n",
       "      <td id=\"T_2b5de_row3_col2\" class=\"data row3 col2\" >nan</td>\n",
       "      <td id=\"T_2b5de_row3_col3\" class=\"data row3 col3\" >nan</td>\n",
       "      <td id=\"T_2b5de_row3_col4\" class=\"data row3 col4\" >nan</td>\n",
       "      <td id=\"T_2b5de_row3_col5\" class=\"data row3 col5\" >0<br>(0.0%)</td>\n",
       "    </tr>\n",
       "    <tr>\n",
       "      <td id=\"T_2b5de_row4_col0\" class=\"data row4 col0\" >5</td>\n",
       "      <td id=\"T_2b5de_row4_col1\" class=\"data row4 col1\" ><strong>sales</strong><br>[float64]</td>\n",
       "      <td id=\"T_2b5de_row4_col2\" class=\"data row4 col2\" >nan</td>\n",
       "      <td id=\"T_2b5de_row4_col3\" class=\"data row4 col3\" >nan</td>\n",
       "      <td id=\"T_2b5de_row4_col4\" class=\"data row4 col4\" >nan</td>\n",
       "      <td id=\"T_2b5de_row4_col5\" class=\"data row4 col5\" >0<br>(0.0%)</td>\n",
       "    </tr>\n",
       "    <tr>\n",
       "      <td id=\"T_2b5de_row5_col0\" class=\"data row5 col0\" >6</td>\n",
       "      <td id=\"T_2b5de_row5_col1\" class=\"data row5 col1\" ><strong>onpromotion</strong><br>[int64]</td>\n",
       "      <td id=\"T_2b5de_row5_col2\" class=\"data row5 col2\" >nan</td>\n",
       "      <td id=\"T_2b5de_row5_col3\" class=\"data row5 col3\" >nan</td>\n",
       "      <td id=\"T_2b5de_row5_col4\" class=\"data row5 col4\" >nan</td>\n",
       "      <td id=\"T_2b5de_row5_col5\" class=\"data row5 col5\" >0<br>(0.0%)</td>\n",
       "    </tr>\n",
       "  </tbody>\n",
       "</table>\n",
       "\n",
       "    </div>\n",
       "    <style>\n",
       "    .st-collapsible {\n",
       "      background-color: #eee;\n",
       "      color: #444;\n",
       "      cursor: pointer;\n",
       "      padding: 10px;\n",
       "      width: 100%;\n",
       "      border: none;\n",
       "      text-align: left;\n",
       "      outline: none;\n",
       "      font-size: 14px;\n",
       "      border-radius: 0.5rem;\n",
       "    }\n",
       "\n",
       "    .active .st-collapsible:hover {\n",
       "      background-color: #ccc;\n",
       "    }\n",
       "\n",
       "    .st-content {\n",
       "      padding: 0 10px;\n",
       "      background-color: white;\n",
       "      max-height: 0;\n",
       "      overflow: hidden;\n",
       "      transition: max-height 0.2s ease-out;\n",
       "    }\n",
       "\n",
       "    .st-collapsible:after {\n",
       "      content: '+'; /* Unicode character for \"plus\" sign (+) */\n",
       "      color: #444;\n",
       "      font-weight: bold;\n",
       "      float: right;\n",
       "      margin-left: 5px;\n",
       "    }\n",
       "\n",
       "    .active:after {\n",
       "      content: '-';\n",
       "    }\n",
       "    </style><script>\n",
       "    function coll_toggle_8575(){\n",
       "        var coll = document.getElementById(\"btn-8575\");\n",
       "        var content = document.getElementById(\"cont-8575\");\n",
       "        coll.classList.toggle(\"active\");\n",
       "        if (content.style.maxHeight){\n",
       "          content.style.maxHeight = null;\n",
       "          coll.innerHTML = \"Show Summary - train_set\";\n",
       "        } else {\n",
       "          content.style.maxHeight = content.scrollHeight + \"px\";\n",
       "          coll.innerHTML = \"Hide Summary - train_set\";\n",
       "        }\n",
       "    }  \n",
       "\n",
       "    </script>"
      ],
      "text/plain": [
       "<IPython.core.display.HTML object>"
      ]
     },
     "execution_count": 51,
     "metadata": {},
     "output_type": "execute_result"
    }
   ],
   "source": [
    "dfSummary(train_set,is_collapsible=True)"
   ]
  },
  {
   "cell_type": "markdown",
   "id": "be455373",
   "metadata": {},
   "source": [
    "<b>Observations about the train dataframe<b>\n",
    "\n",
    "-There are no missing values in the dataFrame.\n",
    "\n",
    "-The date column is an object data type.\n",
    "    \n",
    "-The family column are object data types this will not be accepted by the model."
   ]
  },
  {
   "cell_type": "code",
   "execution_count": 52,
   "id": "a908b83a",
   "metadata": {},
   "outputs": [],
   "source": [
    "#Convert date from object to date time.\n",
    "\n",
    "train_set['date']=pd.to_datetime(train_set.date)"
   ]
  },
  {
   "cell_type": "code",
   "execution_count": 53,
   "id": "6b8a6acf",
   "metadata": {},
   "outputs": [
    {
     "data": {
      "text/plain": [
       "array(['AUTOMOTIVE', 'BABY CARE', 'BEAUTY', 'BEVERAGES', 'BOOKS',\n",
       "       'BREAD/BAKERY', 'CELEBRATION', 'CLEANING', 'DAIRY', 'DELI', 'EGGS',\n",
       "       'FROZEN FOODS', 'GROCERY I', 'GROCERY II', 'HARDWARE',\n",
       "       'HOME AND KITCHEN I', 'HOME AND KITCHEN II', 'HOME APPLIANCES',\n",
       "       'HOME CARE', 'LADIESWEAR', 'LAWN AND GARDEN', 'LINGERIE',\n",
       "       'LIQUOR,WINE,BEER', 'MAGAZINES', 'MEATS', 'PERSONAL CARE',\n",
       "       'PET SUPPLIES', 'PLAYERS AND ELECTRONICS', 'POULTRY',\n",
       "       'PREPARED FOODS', 'PRODUCE', 'SCHOOL AND OFFICE SUPPLIES',\n",
       "       'SEAFOOD'], dtype=object)"
      ]
     },
     "execution_count": 53,
     "metadata": {},
     "output_type": "execute_result"
    }
   ],
   "source": [
    "train_set['family'].unique()"
   ]
  },
  {
   "cell_type": "code",
   "execution_count": 54,
   "id": "e174ffd0",
   "metadata": {},
   "outputs": [
    {
     "data": {
      "text/plain": [
       "<Figure size 800x600 with 0 Axes>"
      ]
     },
     "metadata": {},
     "output_type": "display_data"
    },
    {
     "data": {
      "image/png": "[encoded data removed]",
      "text/plain": [
       "<Figure size 900x600 with 1 Axes>"
      ]
     },
     "metadata": {},
     "output_type": "display_data"
    }
   ],
   "source": [
    "plt.figure(figsize=(8,6))\n",
    "train_plot = sns.catplot(data=train_set, y='family', kind='count', orient='h', height=6, aspect=1.5)\n",
    "train_plot.ax.set_xlabel('Count')\n",
    "train_plot.ax.set_ylabel('Family');\n"
   ]
  },
  {
   "cell_type": "markdown",
   "id": "3b1ed997",
   "metadata": {},
   "source": [
    "<b>Observation about the Family column<b>\n",
    "\n",
    "-Alot of the family groupings are in the food category, these have to be regrouped for easier analyis.\n",
    "\n",
    "-There is exactly the same number of entries for all product families in the train dataset."
   ]
  },
  {
   "cell_type": "code",
   "execution_count": 55,
   "id": "17d965d5",
   "metadata": {},
   "outputs": [
    {
     "data": {
      "text/plain": [
       "<AxesSubplot:xlabel='date', ylabel='sales'>"
      ]
     },
     "execution_count": 55,
     "metadata": {},
     "output_type": "execute_result"
    },
    {
     "data": {
      "image/png": "[encoded data removed]",
      "text/plain": [
       "<Figure size 640x480 with 1 Axes>"
      ]
     },
     "metadata": {},
     "output_type": "display_data"
    }
   ],
   "source": [
    "sns.lineplot(data=train_set, x='date', y='sales')\n"
   ]
  },
  {
   "cell_type": "markdown",
   "id": "e2353090",
   "metadata": {},
   "source": [
    "<b>Observation from the train_set transaction plot.<b>\n",
    "\n",
    "-There is an upward trend in the transactions data.\n",
    "\n",
    "-The transactions peak at the end of the year, then drops off. \n",
    "\n",
    "-There is a level of seasonality exhibited by the dataset.\n",
    "\n",
    "-This indicates seasonality in the transactions data."
   ]
  },
  {
   "cell_type": "markdown",
   "id": "18a9f727",
   "metadata": {},
   "source": [
    "<b>Observation of the dataset sales column. <b>\n",
    "\n",
    "-The highest obvervable spike in sales happened in the year 2014. Followed by 2015, 2016 and 2017 respectively."
   ]
  },
  {
   "cell_type": "markdown",
   "id": "db0d6f9b",
   "metadata": {},
   "source": [
    "# ANSWERING THE QUESTIONS."
   ]
  },
  {
   "cell_type": "markdown",
   "id": "b158973d",
   "metadata": {},
   "source": [
    "<b>Q1.Is the train dataset complete (has all the required dates)?<b>"
   ]
  },
  {
   "cell_type": "code",
   "execution_count": 56,
   "id": "058c85b4",
   "metadata": {},
   "outputs": [],
   "source": [
    "df=train_set"
   ]
  },
  {
   "cell_type": "code",
   "execution_count": 57,
   "id": "9bb8c999",
   "metadata": {},
   "outputs": [
    {
     "name": "stdout",
     "output_type": "stream",
     "text": [
      "[False False False ... False False False]\n"
     ]
    }
   ],
   "source": [
    "print(df.index.duplicated())\n"
   ]
  },
  {
   "cell_type": "code",
   "execution_count": 58,
   "id": "50b7a911",
   "metadata": {},
   "outputs": [
    {
     "data": {
      "text/html": [
       "<div>\n",
       "<style scoped>\n",
       "    .dataframe tbody tr th:only-of-type {\n",
       "        vertical-align: middle;\n",
       "    }\n",
       "\n",
       "    .dataframe tbody tr th {\n",
       "        vertical-align: top;\n",
       "    }\n",
       "\n",
       "    .dataframe thead th {\n",
       "        text-align: right;\n",
       "    }\n",
       "</style>\n",
       "<table border=\"1\" class=\"dataframe\">\n",
       "  <thead>\n",
       "    <tr style=\"text-align: right;\">\n",
       "      <th></th>\n",
       "      <th>id</th>\n",
       "      <th>date</th>\n",
       "      <th>store_nbr</th>\n",
       "      <th>family</th>\n",
       "      <th>sales</th>\n",
       "      <th>onpromotion</th>\n",
       "    </tr>\n",
       "  </thead>\n",
       "  <tbody>\n",
       "    <tr>\n",
       "      <th>0</th>\n",
       "      <td>0</td>\n",
       "      <td>2013-01-01</td>\n",
       "      <td>1</td>\n",
       "      <td>AUTOMOTIVE</td>\n",
       "      <td>0.0</td>\n",
       "      <td>0</td>\n",
       "    </tr>\n",
       "    <tr>\n",
       "      <th>1</th>\n",
       "      <td>1</td>\n",
       "      <td>2013-01-01</td>\n",
       "      <td>1</td>\n",
       "      <td>BABY CARE</td>\n",
       "      <td>0.0</td>\n",
       "      <td>0</td>\n",
       "    </tr>\n",
       "    <tr>\n",
       "      <th>2</th>\n",
       "      <td>2</td>\n",
       "      <td>2013-01-01</td>\n",
       "      <td>1</td>\n",
       "      <td>BEAUTY</td>\n",
       "      <td>0.0</td>\n",
       "      <td>0</td>\n",
       "    </tr>\n",
       "    <tr>\n",
       "      <th>3</th>\n",
       "      <td>3</td>\n",
       "      <td>2013-01-01</td>\n",
       "      <td>1</td>\n",
       "      <td>BEVERAGES</td>\n",
       "      <td>0.0</td>\n",
       "      <td>0</td>\n",
       "    </tr>\n",
       "    <tr>\n",
       "      <th>4</th>\n",
       "      <td>4</td>\n",
       "      <td>2013-01-01</td>\n",
       "      <td>1</td>\n",
       "      <td>BOOKS</td>\n",
       "      <td>0.0</td>\n",
       "      <td>0</td>\n",
       "    </tr>\n",
       "  </tbody>\n",
       "</table>\n",
       "</div>"
      ],
      "text/plain": [
       "   id       date  store_nbr      family  sales  onpromotion\n",
       "0   0 2013-01-01          1  AUTOMOTIVE    0.0            0\n",
       "1   1 2013-01-01          1   BABY CARE    0.0            0\n",
       "2   2 2013-01-01          1      BEAUTY    0.0            0\n",
       "3   3 2013-01-01          1   BEVERAGES    0.0            0\n",
       "4   4 2013-01-01          1       BOOKS    0.0            0"
      ]
     },
     "execution_count": 58,
     "metadata": {},
     "output_type": "execute_result"
    }
   ],
   "source": [
    "df.head()"
   ]
  },
  {
   "cell_type": "code",
   "execution_count": 59,
   "id": "c4aa84e0",
   "metadata": {},
   "outputs": [
    {
     "name": "stdout",
     "output_type": "stream",
     "text": [
      "DatetimeIndex(['2013-12-25', '2014-12-25', '2015-12-25', '2016-12-25'], dtype='datetime64[ns]', freq=None)\n"
     ]
    }
   ],
   "source": [
    "#getting dates which are not in the train dataset\n",
    "missing_dates=pd.date_range(start= '2013-01-01', end='2017-08-15').difference(df.date)\n",
    "\n",
    "\n",
    "print(missing_dates);"
   ]
  },
  {
   "cell_type": "markdown",
   "id": "3374b406",
   "metadata": {},
   "source": [
    "<b>Q2.Which dates have the lowest and highest sales for each year?<b>\n",
    "    \n",
    "-Here the train_set DataFrame is used"
   ]
  },
  {
   "cell_type": "code",
   "execution_count": 60,
   "id": "e6624ebc",
   "metadata": {},
   "outputs": [
    {
     "name": "stdout",
     "output_type": "stream",
     "text": [
      "     max_sales_date  max_sales_value min_sales_date  min_sales_value\n",
      "date                                                                \n",
      "2013     2013-11-12        46271.000     2013-01-01              0.0\n",
      "2014     2014-12-08        45361.000     2014-01-01              0.0\n",
      "2015     2015-12-14        40351.460     2015-01-01              0.0\n",
      "2016     2016-05-02       124717.000     2016-01-01              0.0\n",
      "2017     2017-04-02        38422.625     2017-01-01              0.0\n"
     ]
    }
   ],
   "source": [
    "\n",
    "# Group the dataframe by year and apply the calculation for each year\n",
    "result = df.groupby(df['date'].dt.year).apply(lambda x: pd.Series({\n",
    "    'max_sales_date': x.loc[x['sales'].idxmax(), 'date'],\n",
    "    'max_sales_value': x.loc[x['sales'].idxmax(), 'sales'],\n",
    "    'min_sales_date': x.loc[x['sales'].idxmin(), 'date'],\n",
    "    'min_sales_value': x.loc[x['sales'].idxmin(), 'sales']\n",
    "}))\n",
    "\n",
    "print(result)\n"
   ]
  },
  {
   "cell_type": "markdown",
   "id": "d585c599",
   "metadata": {},
   "source": [
    "<b>Q3:Did the earthquake impact sales?<b>"
   ]
  },
  {
   "cell_type": "code",
   "execution_count": 61,
   "id": "9c799773",
   "metadata": {},
   "outputs": [],
   "source": [
    "#Set Date as the index for the df DataFrame\n",
    "df = df.set_index('date')"
   ]
  },
  {
   "cell_type": "code",
   "execution_count": 62,
   "id": "7f605a72",
   "metadata": {},
   "outputs": [],
   "source": [
    "df['Year']=date.year\n",
    "df['Month']=date.month\n",
    "df['Day Name']=date.day_name()"
   ]
  },
  {
   "cell_type": "code",
   "execution_count": 63,
   "id": "db3bfbd3",
   "metadata": {},
   "outputs": [
    {
     "data": {
      "text/html": [
       "<div>\n",
       "<style scoped>\n",
       "    .dataframe tbody tr th:only-of-type {\n",
       "        vertical-align: middle;\n",
       "    }\n",
       "\n",
       "    .dataframe tbody tr th {\n",
       "        vertical-align: top;\n",
       "    }\n",
       "\n",
       "    .dataframe thead th {\n",
       "        text-align: right;\n",
       "    }\n",
       "</style>\n",
       "<table border=\"1\" class=\"dataframe\">\n",
       "  <thead>\n",
       "    <tr style=\"text-align: right;\">\n",
       "      <th></th>\n",
       "      <th>id</th>\n",
       "      <th>store_nbr</th>\n",
       "      <th>family</th>\n",
       "      <th>sales</th>\n",
       "      <th>onpromotion</th>\n",
       "      <th>Year</th>\n",
       "      <th>Month</th>\n",
       "      <th>Day Name</th>\n",
       "    </tr>\n",
       "    <tr>\n",
       "      <th>date</th>\n",
       "      <th></th>\n",
       "      <th></th>\n",
       "      <th></th>\n",
       "      <th></th>\n",
       "      <th></th>\n",
       "      <th></th>\n",
       "      <th></th>\n",
       "      <th></th>\n",
       "    </tr>\n",
       "  </thead>\n",
       "  <tbody>\n",
       "    <tr>\n",
       "      <th>2013-01-01</th>\n",
       "      <td>0</td>\n",
       "      <td>1</td>\n",
       "      <td>AUTOMOTIVE</td>\n",
       "      <td>0.0</td>\n",
       "      <td>0</td>\n",
       "      <td>2013</td>\n",
       "      <td>1</td>\n",
       "      <td>Tuesday</td>\n",
       "    </tr>\n",
       "    <tr>\n",
       "      <th>2013-01-01</th>\n",
       "      <td>1</td>\n",
       "      <td>1</td>\n",
       "      <td>BABY CARE</td>\n",
       "      <td>0.0</td>\n",
       "      <td>0</td>\n",
       "      <td>2013</td>\n",
       "      <td>1</td>\n",
       "      <td>Tuesday</td>\n",
       "    </tr>\n",
       "    <tr>\n",
       "      <th>2013-01-01</th>\n",
       "      <td>2</td>\n",
       "      <td>1</td>\n",
       "      <td>BEAUTY</td>\n",
       "      <td>0.0</td>\n",
       "      <td>0</td>\n",
       "      <td>2013</td>\n",
       "      <td>1</td>\n",
       "      <td>Tuesday</td>\n",
       "    </tr>\n",
       "    <tr>\n",
       "      <th>2013-01-01</th>\n",
       "      <td>3</td>\n",
       "      <td>1</td>\n",
       "      <td>BEVERAGES</td>\n",
       "      <td>0.0</td>\n",
       "      <td>0</td>\n",
       "      <td>2013</td>\n",
       "      <td>1</td>\n",
       "      <td>Tuesday</td>\n",
       "    </tr>\n",
       "    <tr>\n",
       "      <th>2013-01-01</th>\n",
       "      <td>4</td>\n",
       "      <td>1</td>\n",
       "      <td>BOOKS</td>\n",
       "      <td>0.0</td>\n",
       "      <td>0</td>\n",
       "      <td>2013</td>\n",
       "      <td>1</td>\n",
       "      <td>Tuesday</td>\n",
       "    </tr>\n",
       "  </tbody>\n",
       "</table>\n",
       "</div>"
      ],
      "text/plain": [
       "            id  store_nbr      family  sales  onpromotion  Year  Month  \\\n",
       "date                                                                     \n",
       "2013-01-01   0          1  AUTOMOTIVE    0.0            0  2013      1   \n",
       "2013-01-01   1          1   BABY CARE    0.0            0  2013      1   \n",
       "2013-01-01   2          1      BEAUTY    0.0            0  2013      1   \n",
       "2013-01-01   3          1   BEVERAGES    0.0            0  2013      1   \n",
       "2013-01-01   4          1       BOOKS    0.0            0  2013      1   \n",
       "\n",
       "           Day Name  \n",
       "date                 \n",
       "2013-01-01  Tuesday  \n",
       "2013-01-01  Tuesday  \n",
       "2013-01-01  Tuesday  \n",
       "2013-01-01  Tuesday  \n",
       "2013-01-01  Tuesday  "
      ]
     },
     "execution_count": 63,
     "metadata": {},
     "output_type": "execute_result"
    }
   ],
   "source": [
    "df.head()"
   ]
  },
  {
   "cell_type": "code",
   "execution_count": 64,
   "id": "a60a66cb",
   "metadata": {},
   "outputs": [
    {
     "data": {
      "image/png": "[encoded data removed]",
      "text/plain": [
       "<Figure size 640x480 with 1 Axes>"
      ]
     },
     "metadata": {},
     "output_type": "display_data"
    }
   ],
   "source": [
    "april_2016 = df.loc['2016-04-01':'2016-04-30']\n",
    "plt.plot(april_2016.index, april_2016['sales'])\n",
    "plt.xticks(rotation=45)\n",
    "plt.xlabel('Date')\n",
    "plt.ylabel('Sales')\n",
    "plt.title('Sales in April 2016')\n",
    "plt.show()\n"
   ]
  },
  {
   "cell_type": "markdown",
   "id": "6d22777a",
   "metadata": {},
   "source": [
    "Yes the earthquake had an impact on sales.\n",
    "The earth quake occured on the 16th of April, looking at the chart it shows that sales increased to about 30000 on the 17th of April.\n",
    "However, on the 18th of April, that is two (2) days after the earth quake sales shot up to 750000. This can be attributed to the after effect of the earth quake. Sales dropped to about 250000 on the 19th of April. \n",
    "There was a further jump in sales to about 870000 on the 21st of April and 620000 on the 26th of April, these sales jump can be attributed to the after effect earth quake. "
   ]
  },
  {
   "cell_type": "markdown",
   "id": "b67a7270",
   "metadata": {},
   "source": [
    "<b>Q4:Are certain groups of stores selling more products? (Cluster, city, state, type)<b>"
   ]
  },
  {
   "cell_type": "code",
   "execution_count": 122,
   "id": "4520d4ff",
   "metadata": {},
   "outputs": [],
   "source": [
    "#First merge the stores DataFrame and transactions DataFrame\n",
    "performance_df=pd.merge(df_transactions,df_stores,on='store_nbr',how='outer')"
   ]
  },
  {
   "cell_type": "markdown",
   "id": "d3b6c319",
   "metadata": {},
   "source": [
    "<b>Analysing by Cluster<b>"
   ]
  },
  {
   "cell_type": "code",
   "execution_count": 130,
   "id": "6ea395e4",
   "metadata": {},
   "outputs": [
    {
     "data": {
      "image/png": "[encoded data removed]",
      "text/plain": [
       "<Figure size 700x400 with 1 Axes>"
      ]
     },
     "metadata": {},
     "output_type": "display_data"
    }
   ],
   "source": [
    "fig=plt.figure(figsize=(7,4))\n",
    "ax1=plt.subplot(1,1,1)\n",
    "ax1.barh(performance_df.cluster,performance_df.transactions)\n",
    "plt.show()"
   ]
  },
  {
   "cell_type": "markdown",
   "id": "31de8f6c",
   "metadata": {},
   "source": [
    "<b>Q5:Are sales affected by promotions, oil prices and holidays?<b>"
   ]
  },
  {
   "cell_type": "markdown",
   "id": "11f52baf",
   "metadata": {},
   "source": [
    "<b>Sales Vrs promotions Analysis<b>"
   ]
  },
  {
   "cell_type": "code",
   "execution_count": 89,
   "id": "668879ea",
   "metadata": {
    "scrolled": true
   },
   "outputs": [],
   "source": [
    "#Merge the train_set,oil and holiday events DataFrames\n",
    "\n",
    "new_train=pd.merge(train_set,df_oil,left_on=['date'],right_on=['date'],how='inner').merge(df_holiday_events,on=['date'],how='inner')"
   ]
  },
  {
   "cell_type": "code",
   "execution_count": 80,
   "id": "9532e2bb",
   "metadata": {},
   "outputs": [
    {
     "data": {
      "image/png": "[encoded data removed]",
      "text/plain": [
       "<Figure size 640x480 with 1 Axes>"
      ]
     },
     "metadata": {},
     "output_type": "display_data"
    }
   ],
   "source": [
    "# plot sales and promotions against dates\n",
    "plt.plot(new_train['date'], new_train['sales'], label='Sales')\n",
    "plt.plot(new_train['date'], new_train['onpromotion'], label='Promotions')\n",
    "\n",
    "# add title and axis labels\n",
    "plt.title('Sales and Promotions Over Time')\n",
    "plt.xlabel('Date')\n",
    "plt.ylabel('Amount')\n",
    "\n",
    "# add legend\n",
    "plt.legend()\n",
    "\n",
    "# display the plot\n",
    "plt.show()\n"
   ]
  },
  {
   "cell_type": "code",
   "execution_count": 83,
   "id": "d95aa2c8",
   "metadata": {},
   "outputs": [
    {
     "name": "stdout",
     "output_type": "stream",
     "text": [
      "Correlation coefficient between sales and promotions: 0.43\n"
     ]
    }
   ],
   "source": [
    "\n",
    "# compute correlation between sales and promotions\n",
    "corr = df['sales'].corr(df['onpromotion'])\n",
    "\n",
    "# correlation coefficient\n",
    "print(f\"Correlation coefficient between sales and promotions: {corr:.2f}\")\n"
   ]
  },
  {
   "cell_type": "markdown",
   "id": "2097a211",
   "metadata": {},
   "source": [
    "A correlation coefficient of 0.43 indicates a moderate positive correlation between the two variables being compared.\n",
    "\n",
    "In this case, the two variables are sales and promotions, a correlation coefficient of 0.43 suggests that there is a moderate positive relationship between the amount of promotions and the amount of sales. This means that as the amount of promotions increases, the amount of sales tends to increase as well, but not necessarily in a linear fashion."
   ]
  },
  {
   "cell_type": "markdown",
   "id": "5a7f2138",
   "metadata": {},
   "source": [
    "<b>Sales vrs Oil<b>"
   ]
  },
  {
   "cell_type": "code",
   "execution_count": 85,
   "id": "b5e4d643",
   "metadata": {},
   "outputs": [
    {
     "data": {
      "image/png": "[encoded data removed]",
      "text/plain": [
       "<Figure size 640x480 with 1 Axes>"
      ]
     },
     "metadata": {},
     "output_type": "display_data"
    }
   ],
   "source": [
    "# plot sales and oil prices against dates\n",
    "plt.plot(new_train['date'], new_train['sales'], label='Sales')\n",
    "plt.plot(new_train['date'], new_train['dcoilwtico'], label='Oil')\n",
    "\n",
    "# add title and axis labels\n",
    "plt.title('Sales and Oil Price Over Time')\n",
    "plt.xlabel('Date')\n",
    "plt.ylabel('Amount')\n",
    "\n",
    "# add legend\n",
    "plt.legend()\n",
    "\n",
    "# display the plot\n",
    "plt.show()"
   ]
  },
  {
   "cell_type": "code",
   "execution_count": 88,
   "id": "4563c278",
   "metadata": {},
   "outputs": [
    {
     "name": "stdout",
     "output_type": "stream",
     "text": [
      "Correlation coefficient between sales and oil price: -0.07\n"
     ]
    }
   ],
   "source": [
    "# compute correlation between sales and promotions\n",
    "corr = new_train['sales'].corr(new_train['dcoilwtico'])\n",
    "\n",
    "# correlation coefficient\n",
    "print(f\"Correlation coefficient between sales and oil price: {corr:.2f}\")"
   ]
  },
  {
   "cell_type": "markdown",
   "id": "10c112a4",
   "metadata": {},
   "source": [
    "A correlation coefficient of -0.07 suggests a weak negative correlation between the two variables being compared.\n",
    "The negative sign indicates that there is a negative relationship between the two variables, meaning that as one variable increases, the other tends to decrease, although the correlation is weak, which suggests that the relationship is not very strong."
   ]
  },
  {
   "cell_type": "markdown",
   "id": "36319603",
   "metadata": {},
   "source": [
    "<b>Sales Vrs Holidays<b>"
   ]
  },
  {
   "cell_type": "code",
   "execution_count": 92,
   "id": "f8818cbb",
   "metadata": {},
   "outputs": [
    {
     "data": {
      "image/png": "[encoded data removed]",
      "text/plain": [
       "<Figure size 640x480 with 1 Axes>"
      ]
     },
     "metadata": {},
     "output_type": "display_data"
    }
   ],
   "source": [
    "# plot sales and oil prices against dates\n",
    "plt.plot(new_train['date'], new_train['sales'], label='Sales')\n",
    "plt.plot(new_train['date'], new_train['type'], label='Holiday type')\n",
    "#plt.plot(new_train['date'], new_train['type'], label='Holiday type')\n",
    "\n",
    "# add title and axis labels\n",
    "plt.title('Sales and Holidays over time')\n",
    "plt.xlabel('Date')\n",
    "plt.ylabel('Amount')\n",
    "\n",
    "# add legend\n",
    "plt.legend()\n",
    "\n",
    "# display the plot\n",
    "plt.show()"
   ]
  },
  {
   "cell_type": "code",
   "execution_count": 97,
   "id": "12f4f6ac",
   "metadata": {},
   "outputs": [
    {
     "data": {
      "text/plain": [
       "array(['Holiday', 'Additional', 'Transfer', 'Event', 'Bridge'],\n",
       "      dtype=object)"
      ]
     },
     "execution_count": 97,
     "metadata": {},
     "output_type": "execute_result"
    }
   ],
   "source": [
    "new_train['type'].unique()"
   ]
  },
  {
   "cell_type": "code",
   "execution_count": 95,
   "id": "a2c62f23",
   "metadata": {},
   "outputs": [
    {
     "data": {
      "text/html": [
       "<div>\n",
       "<style scoped>\n",
       "    .dataframe tbody tr th:only-of-type {\n",
       "        vertical-align: middle;\n",
       "    }\n",
       "\n",
       "    .dataframe tbody tr th {\n",
       "        vertical-align: top;\n",
       "    }\n",
       "\n",
       "    .dataframe thead th {\n",
       "        text-align: right;\n",
       "    }\n",
       "</style>\n",
       "<table border=\"1\" class=\"dataframe\">\n",
       "  <thead>\n",
       "    <tr style=\"text-align: right;\">\n",
       "      <th></th>\n",
       "      <th>type</th>\n",
       "      <th>sales</th>\n",
       "      <th>Cumulative_Percentage</th>\n",
       "    </tr>\n",
       "  </thead>\n",
       "  <tbody>\n",
       "    <tr>\n",
       "      <th>3</th>\n",
       "      <td>Holiday</td>\n",
       "      <td>7.525080e+07</td>\n",
       "      <td>94.916414</td>\n",
       "    </tr>\n",
       "    <tr>\n",
       "      <th>2</th>\n",
       "      <td>Event</td>\n",
       "      <td>2.511684e+07</td>\n",
       "      <td>37.425222</td>\n",
       "    </tr>\n",
       "    <tr>\n",
       "      <th>0</th>\n",
       "      <td>Additional</td>\n",
       "      <td>2.148108e+07</td>\n",
       "      <td>16.411428</td>\n",
       "    </tr>\n",
       "    <tr>\n",
       "      <th>4</th>\n",
       "      <td>Transfer</td>\n",
       "      <td>6.653957e+06</td>\n",
       "      <td>100.000000</td>\n",
       "    </tr>\n",
       "    <tr>\n",
       "      <th>1</th>\n",
       "      <td>Bridge</td>\n",
       "      <td>2.388330e+06</td>\n",
       "      <td>18.236099</td>\n",
       "    </tr>\n",
       "  </tbody>\n",
       "</table>\n",
       "</div>"
      ],
      "text/plain": [
       "         type         sales  Cumulative_Percentage\n",
       "3     Holiday  7.525080e+07              94.916414\n",
       "2       Event  2.511684e+07              37.425222\n",
       "0  Additional  2.148108e+07              16.411428\n",
       "4    Transfer  6.653957e+06             100.000000\n",
       "1      Bridge  2.388330e+06              18.236099"
      ]
     },
     "execution_count": 95,
     "metadata": {},
     "output_type": "execute_result"
    }
   ],
   "source": [
    "holiday_sales = new_train.groupby('type')['sales'].sum().reset_index()\n",
    "holiday_sales['Cumulative_Percentage'] = (holiday_sales['sales'].cumsum() / holiday_sales['sales'].sum()) * 100\n",
    "holiday_sales = holiday_sales.sort_values(by='sales', ascending=False)\n",
    "\n",
    "holiday_sales"
   ]
  },
  {
   "cell_type": "code",
   "execution_count": 131,
   "id": "788162a7",
   "metadata": {
    "scrolled": true
   },
   "outputs": [
    {
     "data": {
      "image/png": "[encoded data removed]",
      "text/plain": [
       "<Figure size 640x480 with 2 Axes>"
      ]
     },
     "metadata": {},
     "output_type": "display_data"
    }
   ],
   "source": [
    "fig, ax1 = plt.subplots()\n",
    "ax1.bar(holiday_sales['type'], holiday_sales['sales'], color='C0')\n",
    "ax1.set_ylabel('Sales')\n",
    "ax1.tick_params(axis='y')\n",
    "\n",
    "ax2 = ax1.twinx()\n",
    "ax2.plot(holiday_sales['type'], holiday_sales['Cumulative_Percentage'], color='C1', marker='o')\n",
    "ax2.set_ylabel('Cumulative Percentage')\n",
    "ax2.tick_params(axis='y')\n",
    "\n",
    "plt.title('Pareto Chart of Sales by Holiday Type')\n",
    "plt.show()\n"
   ]
  },
  {
   "cell_type": "code",
   "execution_count": 103,
   "id": "4371feaa",
   "metadata": {},
   "outputs": [
    {
     "name": "stdout",
     "output_type": "stream",
     "text": [
      "One-way ANOVA results: F = 194.19, p-value = 0.0000\n"
     ]
    }
   ],
   "source": [
    "import scipy.stats as stats\n",
    "\n",
    "# Group the data by type of holiday\n",
    "groups = new_train.groupby('type')['sales'].apply(list)\n",
    "\n",
    "# Perform ANOVA test\n",
    "f_value, p_value = stats.f_oneway(*groups)\n",
    "\n",
    "print(f\"One-way ANOVA results: F = {f_value:.2f}, p-value = {p_value:.4f}\")\n"
   ]
  },
  {
   "cell_type": "markdown",
   "id": "40b44845",
   "metadata": {},
   "source": [
    "Based on the results of the ANOVA test, we can conclude that there is a significant difference in sales between the different types of holidays. This means that the type of holiday has an impact on the sales. However, the ANOVA test does not tell us which specific type of holiday is responsible for the difference in sales. To determine that, we would need to perform additional analyses such as post-hoc tests or pairwise comparisons."
   ]
  },
  {
   "cell_type": "code",
   "execution_count": 104,
   "id": "360c703a",
   "metadata": {},
   "outputs": [
    {
     "name": "stdout",
     "output_type": "stream",
     "text": [
      "      Multiple Comparison of Means - Tukey HSD, FWER=0.05      \n",
      "===============================================================\n",
      "  group1    group2   meandiff p-adj    lower     upper   reject\n",
      "---------------------------------------------------------------\n",
      "Additional   Bridge  -35.4283 0.2434  -82.6286   11.7719  False\n",
      "Additional    Event  -79.4722    0.0  -99.7009  -59.2435   True\n",
      "Additional  Holiday  -149.673    0.0 -166.5753 -132.7707   True\n",
      "Additional Transfer  -15.4314 0.6652  -46.8103   15.9475  False\n",
      "    Bridge    Event  -44.0439 0.0731   -90.516    2.4283  False\n",
      "    Bridge  Holiday -114.2447    0.0 -159.3684   -69.121   True\n",
      "    Bridge Transfer    19.997 0.8353  -32.3012   72.2951  False\n",
      "     Event  Holiday  -70.2008    0.0  -84.9483  -55.4534   True\n",
      "     Event Transfer   64.0408    0.0   33.7681   94.3135   True\n",
      "   Holiday Transfer  134.2416    0.0  106.0827  162.4005   True\n",
      "---------------------------------------------------------------\n"
     ]
    }
   ],
   "source": [
    "from statsmodels.stats.multicomp import pairwise_tukeyhsd\n",
    "\n",
    "# perform Turkey's HSD test\n",
    "turkey_results = pairwise_tukeyhsd(new_train['sales'], new_train['type'], alpha=0.05)\n",
    "\n",
    "# print results\n",
    "print(turkey_results)\n"
   ]
  },
  {
   "cell_type": "markdown",
   "id": "b0f02aa7",
   "metadata": {},
   "source": [
    "<b>Q6:What analysis can we get from the date and its extractable features?<b>"
   ]
  },
  {
   "cell_type": "markdown",
   "id": "a86423eb",
   "metadata": {},
   "source": [
    "The extractable features from the date are Year,Month and Day. \n",
    "\n",
    "<b>Year<b>:At the high level we can analyse the sales performance across the years for a specific store,city, state, product family or cluster.\n",
    "    \n",
    "<b>Month<b>: The next level of drill down will be analysing sales performance monthly for stors,cities, states, product families and clusteres. The analysis can cover corresponding months acoss years that is you can analyse sales in the month of January for all years. This will show whether there is seasonality or not.\n",
    "    \n",
    "<b>Day of week: Day of week provides a further level of detail to the analysis that can be done.<b>"
   ]
  },
  {
   "cell_type": "markdown",
   "id": "bd5be5d2",
   "metadata": {},
   "source": [
    "<b> DEEP DIVE INTO YEAR<b>"
   ]
  },
  {
   "cell_type": "code",
   "execution_count": 109,
   "id": "c0af8811",
   "metadata": {},
   "outputs": [],
   "source": [
    "# merge dataframes\n",
    "data = pd.merge(train_set, df_oil, on='date', how='left')\n",
    "new_train_data = pd.merge(data, df_holiday_events, on='date', how='left')\n",
    "train_data = pd.merge(new_train_data, df_stores, on='store_nbr', how='left')"
   ]
  },
  {
   "cell_type": "code",
   "execution_count": 119,
   "id": "0f5ff210",
   "metadata": {},
   "outputs": [
    {
     "data": {
      "text/html": [
       "<div>\n",
       "<style scoped>\n",
       "    .dataframe tbody tr th:only-of-type {\n",
       "        vertical-align: middle;\n",
       "    }\n",
       "\n",
       "    .dataframe tbody tr th {\n",
       "        vertical-align: top;\n",
       "    }\n",
       "\n",
       "    .dataframe thead th {\n",
       "        text-align: right;\n",
       "    }\n",
       "</style>\n",
       "<table border=\"1\" class=\"dataframe\">\n",
       "  <thead>\n",
       "    <tr style=\"text-align: right;\">\n",
       "      <th></th>\n",
       "      <th>id</th>\n",
       "      <th>store_nbr</th>\n",
       "      <th>family</th>\n",
       "      <th>sales</th>\n",
       "      <th>onpromotion</th>\n",
       "      <th>dcoilwtico</th>\n",
       "      <th>Year_x</th>\n",
       "      <th>Month_x</th>\n",
       "      <th>Day Name_x</th>\n",
       "      <th>type_x</th>\n",
       "      <th>locale</th>\n",
       "      <th>locale_name</th>\n",
       "      <th>description</th>\n",
       "      <th>transferred</th>\n",
       "      <th>Year_y</th>\n",
       "      <th>Month_y</th>\n",
       "      <th>Day Name_y</th>\n",
       "      <th>city</th>\n",
       "      <th>state</th>\n",
       "      <th>type_y</th>\n",
       "      <th>cluster</th>\n",
       "    </tr>\n",
       "    <tr>\n",
       "      <th>date</th>\n",
       "      <th></th>\n",
       "      <th></th>\n",
       "      <th></th>\n",
       "      <th></th>\n",
       "      <th></th>\n",
       "      <th></th>\n",
       "      <th></th>\n",
       "      <th></th>\n",
       "      <th></th>\n",
       "      <th></th>\n",
       "      <th></th>\n",
       "      <th></th>\n",
       "      <th></th>\n",
       "      <th></th>\n",
       "      <th></th>\n",
       "      <th></th>\n",
       "      <th></th>\n",
       "      <th></th>\n",
       "      <th></th>\n",
       "      <th></th>\n",
       "      <th></th>\n",
       "    </tr>\n",
       "  </thead>\n",
       "  <tbody>\n",
       "    <tr>\n",
       "      <th>2013-01-01</th>\n",
       "      <td>0</td>\n",
       "      <td>1</td>\n",
       "      <td>AUTOMOTIVE</td>\n",
       "      <td>0.0</td>\n",
       "      <td>0</td>\n",
       "      <td>NaN</td>\n",
       "      <td>2013.0</td>\n",
       "      <td>1.0</td>\n",
       "      <td>Tuesday</td>\n",
       "      <td>Holiday</td>\n",
       "      <td>National</td>\n",
       "      <td>Ecuador</td>\n",
       "      <td>Primer dia del ano</td>\n",
       "      <td>False</td>\n",
       "      <td>2012.0</td>\n",
       "      <td>3.0</td>\n",
       "      <td>Friday</td>\n",
       "      <td>Quito</td>\n",
       "      <td>Pichincha</td>\n",
       "      <td>D</td>\n",
       "      <td>13</td>\n",
       "    </tr>\n",
       "    <tr>\n",
       "      <th>2013-01-01</th>\n",
       "      <td>1</td>\n",
       "      <td>1</td>\n",
       "      <td>BABY CARE</td>\n",
       "      <td>0.0</td>\n",
       "      <td>0</td>\n",
       "      <td>NaN</td>\n",
       "      <td>2013.0</td>\n",
       "      <td>1.0</td>\n",
       "      <td>Tuesday</td>\n",
       "      <td>Holiday</td>\n",
       "      <td>National</td>\n",
       "      <td>Ecuador</td>\n",
       "      <td>Primer dia del ano</td>\n",
       "      <td>False</td>\n",
       "      <td>2012.0</td>\n",
       "      <td>3.0</td>\n",
       "      <td>Friday</td>\n",
       "      <td>Quito</td>\n",
       "      <td>Pichincha</td>\n",
       "      <td>D</td>\n",
       "      <td>13</td>\n",
       "    </tr>\n",
       "    <tr>\n",
       "      <th>2013-01-01</th>\n",
       "      <td>2</td>\n",
       "      <td>1</td>\n",
       "      <td>BEAUTY</td>\n",
       "      <td>0.0</td>\n",
       "      <td>0</td>\n",
       "      <td>NaN</td>\n",
       "      <td>2013.0</td>\n",
       "      <td>1.0</td>\n",
       "      <td>Tuesday</td>\n",
       "      <td>Holiday</td>\n",
       "      <td>National</td>\n",
       "      <td>Ecuador</td>\n",
       "      <td>Primer dia del ano</td>\n",
       "      <td>False</td>\n",
       "      <td>2012.0</td>\n",
       "      <td>3.0</td>\n",
       "      <td>Friday</td>\n",
       "      <td>Quito</td>\n",
       "      <td>Pichincha</td>\n",
       "      <td>D</td>\n",
       "      <td>13</td>\n",
       "    </tr>\n",
       "    <tr>\n",
       "      <th>2013-01-01</th>\n",
       "      <td>3</td>\n",
       "      <td>1</td>\n",
       "      <td>BEVERAGES</td>\n",
       "      <td>0.0</td>\n",
       "      <td>0</td>\n",
       "      <td>NaN</td>\n",
       "      <td>2013.0</td>\n",
       "      <td>1.0</td>\n",
       "      <td>Tuesday</td>\n",
       "      <td>Holiday</td>\n",
       "      <td>National</td>\n",
       "      <td>Ecuador</td>\n",
       "      <td>Primer dia del ano</td>\n",
       "      <td>False</td>\n",
       "      <td>2012.0</td>\n",
       "      <td>3.0</td>\n",
       "      <td>Friday</td>\n",
       "      <td>Quito</td>\n",
       "      <td>Pichincha</td>\n",
       "      <td>D</td>\n",
       "      <td>13</td>\n",
       "    </tr>\n",
       "    <tr>\n",
       "      <th>2013-01-01</th>\n",
       "      <td>4</td>\n",
       "      <td>1</td>\n",
       "      <td>BOOKS</td>\n",
       "      <td>0.0</td>\n",
       "      <td>0</td>\n",
       "      <td>NaN</td>\n",
       "      <td>2013.0</td>\n",
       "      <td>1.0</td>\n",
       "      <td>Tuesday</td>\n",
       "      <td>Holiday</td>\n",
       "      <td>National</td>\n",
       "      <td>Ecuador</td>\n",
       "      <td>Primer dia del ano</td>\n",
       "      <td>False</td>\n",
       "      <td>2012.0</td>\n",
       "      <td>3.0</td>\n",
       "      <td>Friday</td>\n",
       "      <td>Quito</td>\n",
       "      <td>Pichincha</td>\n",
       "      <td>D</td>\n",
       "      <td>13</td>\n",
       "    </tr>\n",
       "  </tbody>\n",
       "</table>\n",
       "</div>"
      ],
      "text/plain": [
       "            id  store_nbr      family  sales  onpromotion  dcoilwtico  Year_x  \\\n",
       "date                                                                            \n",
       "2013-01-01   0          1  AUTOMOTIVE    0.0            0         NaN  2013.0   \n",
       "2013-01-01   1          1   BABY CARE    0.0            0         NaN  2013.0   \n",
       "2013-01-01   2          1      BEAUTY    0.0            0         NaN  2013.0   \n",
       "2013-01-01   3          1   BEVERAGES    0.0            0         NaN  2013.0   \n",
       "2013-01-01   4          1       BOOKS    0.0            0         NaN  2013.0   \n",
       "\n",
       "            Month_x Day Name_x   type_x    locale locale_name  \\\n",
       "date                                                            \n",
       "2013-01-01      1.0    Tuesday  Holiday  National     Ecuador   \n",
       "2013-01-01      1.0    Tuesday  Holiday  National     Ecuador   \n",
       "2013-01-01      1.0    Tuesday  Holiday  National     Ecuador   \n",
       "2013-01-01      1.0    Tuesday  Holiday  National     Ecuador   \n",
       "2013-01-01      1.0    Tuesday  Holiday  National     Ecuador   \n",
       "\n",
       "                   description transferred  Year_y  Month_y Day Name_y   city  \\\n",
       "date                                                                            \n",
       "2013-01-01  Primer dia del ano       False  2012.0      3.0     Friday  Quito   \n",
       "2013-01-01  Primer dia del ano       False  2012.0      3.0     Friday  Quito   \n",
       "2013-01-01  Primer dia del ano       False  2012.0      3.0     Friday  Quito   \n",
       "2013-01-01  Primer dia del ano       False  2012.0      3.0     Friday  Quito   \n",
       "2013-01-01  Primer dia del ano       False  2012.0      3.0     Friday  Quito   \n",
       "\n",
       "                state type_y  cluster  \n",
       "date                                   \n",
       "2013-01-01  Pichincha      D       13  \n",
       "2013-01-01  Pichincha      D       13  \n",
       "2013-01-01  Pichincha      D       13  \n",
       "2013-01-01  Pichincha      D       13  \n",
       "2013-01-01  Pichincha      D       13  "
      ]
     },
     "execution_count": 119,
     "metadata": {},
     "output_type": "execute_result"
    }
   ],
   "source": [
    "train_data.head()"
   ]
  },
  {
   "cell_type": "code",
   "execution_count": 112,
   "id": "85fb36d1",
   "metadata": {},
   "outputs": [
    {
     "name": "stdout",
     "output_type": "stream",
     "text": [
      "<class 'pandas.core.frame.DataFrame'>\n",
      "Int64Index: 3054348 entries, 0 to 3054347\n",
      "Data columns (total 22 columns):\n",
      " #   Column       Dtype         \n",
      "---  ------       -----         \n",
      " 0   id           int64         \n",
      " 1   date         datetime64[ns]\n",
      " 2   store_nbr    int64         \n",
      " 3   family       object        \n",
      " 4   sales        float64       \n",
      " 5   onpromotion  int64         \n",
      " 6   dcoilwtico   float64       \n",
      " 7   Year_x       float64       \n",
      " 8   Month_x      float64       \n",
      " 9   Day Name_x   object        \n",
      " 10  type_x       object        \n",
      " 11  locale       object        \n",
      " 12  locale_name  object        \n",
      " 13  description  object        \n",
      " 14  transferred  object        \n",
      " 15  Year_y       float64       \n",
      " 16  Month_y      float64       \n",
      " 17  Day Name_y   object        \n",
      " 18  city         object        \n",
      " 19  state        object        \n",
      " 20  type_y       object        \n",
      " 21  cluster      int64         \n",
      "dtypes: datetime64[ns](1), float64(6), int64(4), object(11)\n",
      "memory usage: 536.0+ MB\n"
     ]
    }
   ],
   "source": [
    "train_data.info()"
   ]
  },
  {
   "cell_type": "code",
   "execution_count": 113,
   "id": "5fa2eabc",
   "metadata": {},
   "outputs": [],
   "source": [
    "train_data = train_data.set_index('date')"
   ]
  },
  {
   "cell_type": "code",
   "execution_count": 114,
   "id": "18209a01",
   "metadata": {},
   "outputs": [
    {
     "data": {
      "text/html": [
       "<div>\n",
       "<style scoped>\n",
       "    .dataframe tbody tr th:only-of-type {\n",
       "        vertical-align: middle;\n",
       "    }\n",
       "\n",
       "    .dataframe tbody tr th {\n",
       "        vertical-align: top;\n",
       "    }\n",
       "\n",
       "    .dataframe thead th {\n",
       "        text-align: right;\n",
       "    }\n",
       "</style>\n",
       "<table border=\"1\" class=\"dataframe\">\n",
       "  <thead>\n",
       "    <tr style=\"text-align: right;\">\n",
       "      <th></th>\n",
       "      <th>id</th>\n",
       "      <th>store_nbr</th>\n",
       "      <th>family</th>\n",
       "      <th>sales</th>\n",
       "      <th>onpromotion</th>\n",
       "      <th>dcoilwtico</th>\n",
       "      <th>Year_x</th>\n",
       "      <th>Month_x</th>\n",
       "      <th>Day Name_x</th>\n",
       "      <th>type_x</th>\n",
       "      <th>locale</th>\n",
       "      <th>locale_name</th>\n",
       "      <th>description</th>\n",
       "      <th>transferred</th>\n",
       "      <th>Year_y</th>\n",
       "      <th>Month_y</th>\n",
       "      <th>Day Name_y</th>\n",
       "      <th>city</th>\n",
       "      <th>state</th>\n",
       "      <th>type_y</th>\n",
       "      <th>cluster</th>\n",
       "    </tr>\n",
       "    <tr>\n",
       "      <th>date</th>\n",
       "      <th></th>\n",
       "      <th></th>\n",
       "      <th></th>\n",
       "      <th></th>\n",
       "      <th></th>\n",
       "      <th></th>\n",
       "      <th></th>\n",
       "      <th></th>\n",
       "      <th></th>\n",
       "      <th></th>\n",
       "      <th></th>\n",
       "      <th></th>\n",
       "      <th></th>\n",
       "      <th></th>\n",
       "      <th></th>\n",
       "      <th></th>\n",
       "      <th></th>\n",
       "      <th></th>\n",
       "      <th></th>\n",
       "      <th></th>\n",
       "      <th></th>\n",
       "    </tr>\n",
       "  </thead>\n",
       "  <tbody>\n",
       "    <tr>\n",
       "      <th>2013-01-01</th>\n",
       "      <td>0</td>\n",
       "      <td>1</td>\n",
       "      <td>AUTOMOTIVE</td>\n",
       "      <td>0.0</td>\n",
       "      <td>0</td>\n",
       "      <td>NaN</td>\n",
       "      <td>2013.0</td>\n",
       "      <td>1.0</td>\n",
       "      <td>Tuesday</td>\n",
       "      <td>Holiday</td>\n",
       "      <td>National</td>\n",
       "      <td>Ecuador</td>\n",
       "      <td>Primer dia del ano</td>\n",
       "      <td>False</td>\n",
       "      <td>2012.0</td>\n",
       "      <td>3.0</td>\n",
       "      <td>Friday</td>\n",
       "      <td>Quito</td>\n",
       "      <td>Pichincha</td>\n",
       "      <td>D</td>\n",
       "      <td>13</td>\n",
       "    </tr>\n",
       "    <tr>\n",
       "      <th>2013-01-01</th>\n",
       "      <td>1</td>\n",
       "      <td>1</td>\n",
       "      <td>BABY CARE</td>\n",
       "      <td>0.0</td>\n",
       "      <td>0</td>\n",
       "      <td>NaN</td>\n",
       "      <td>2013.0</td>\n",
       "      <td>1.0</td>\n",
       "      <td>Tuesday</td>\n",
       "      <td>Holiday</td>\n",
       "      <td>National</td>\n",
       "      <td>Ecuador</td>\n",
       "      <td>Primer dia del ano</td>\n",
       "      <td>False</td>\n",
       "      <td>2012.0</td>\n",
       "      <td>3.0</td>\n",
       "      <td>Friday</td>\n",
       "      <td>Quito</td>\n",
       "      <td>Pichincha</td>\n",
       "      <td>D</td>\n",
       "      <td>13</td>\n",
       "    </tr>\n",
       "    <tr>\n",
       "      <th>2013-01-01</th>\n",
       "      <td>2</td>\n",
       "      <td>1</td>\n",
       "      <td>BEAUTY</td>\n",
       "      <td>0.0</td>\n",
       "      <td>0</td>\n",
       "      <td>NaN</td>\n",
       "      <td>2013.0</td>\n",
       "      <td>1.0</td>\n",
       "      <td>Tuesday</td>\n",
       "      <td>Holiday</td>\n",
       "      <td>National</td>\n",
       "      <td>Ecuador</td>\n",
       "      <td>Primer dia del ano</td>\n",
       "      <td>False</td>\n",
       "      <td>2012.0</td>\n",
       "      <td>3.0</td>\n",
       "      <td>Friday</td>\n",
       "      <td>Quito</td>\n",
       "      <td>Pichincha</td>\n",
       "      <td>D</td>\n",
       "      <td>13</td>\n",
       "    </tr>\n",
       "    <tr>\n",
       "      <th>2013-01-01</th>\n",
       "      <td>3</td>\n",
       "      <td>1</td>\n",
       "      <td>BEVERAGES</td>\n",
       "      <td>0.0</td>\n",
       "      <td>0</td>\n",
       "      <td>NaN</td>\n",
       "      <td>2013.0</td>\n",
       "      <td>1.0</td>\n",
       "      <td>Tuesday</td>\n",
       "      <td>Holiday</td>\n",
       "      <td>National</td>\n",
       "      <td>Ecuador</td>\n",
       "      <td>Primer dia del ano</td>\n",
       "      <td>False</td>\n",
       "      <td>2012.0</td>\n",
       "      <td>3.0</td>\n",
       "      <td>Friday</td>\n",
       "      <td>Quito</td>\n",
       "      <td>Pichincha</td>\n",
       "      <td>D</td>\n",
       "      <td>13</td>\n",
       "    </tr>\n",
       "    <tr>\n",
       "      <th>2013-01-01</th>\n",
       "      <td>4</td>\n",
       "      <td>1</td>\n",
       "      <td>BOOKS</td>\n",
       "      <td>0.0</td>\n",
       "      <td>0</td>\n",
       "      <td>NaN</td>\n",
       "      <td>2013.0</td>\n",
       "      <td>1.0</td>\n",
       "      <td>Tuesday</td>\n",
       "      <td>Holiday</td>\n",
       "      <td>National</td>\n",
       "      <td>Ecuador</td>\n",
       "      <td>Primer dia del ano</td>\n",
       "      <td>False</td>\n",
       "      <td>2012.0</td>\n",
       "      <td>3.0</td>\n",
       "      <td>Friday</td>\n",
       "      <td>Quito</td>\n",
       "      <td>Pichincha</td>\n",
       "      <td>D</td>\n",
       "      <td>13</td>\n",
       "    </tr>\n",
       "  </tbody>\n",
       "</table>\n",
       "</div>"
      ],
      "text/plain": [
       "            id  store_nbr      family  sales  onpromotion  dcoilwtico  Year_x  \\\n",
       "date                                                                            \n",
       "2013-01-01   0          1  AUTOMOTIVE    0.0            0         NaN  2013.0   \n",
       "2013-01-01   1          1   BABY CARE    0.0            0         NaN  2013.0   \n",
       "2013-01-01   2          1      BEAUTY    0.0            0         NaN  2013.0   \n",
       "2013-01-01   3          1   BEVERAGES    0.0            0         NaN  2013.0   \n",
       "2013-01-01   4          1       BOOKS    0.0            0         NaN  2013.0   \n",
       "\n",
       "            Month_x Day Name_x   type_x    locale locale_name  \\\n",
       "date                                                            \n",
       "2013-01-01      1.0    Tuesday  Holiday  National     Ecuador   \n",
       "2013-01-01      1.0    Tuesday  Holiday  National     Ecuador   \n",
       "2013-01-01      1.0    Tuesday  Holiday  National     Ecuador   \n",
       "2013-01-01      1.0    Tuesday  Holiday  National     Ecuador   \n",
       "2013-01-01      1.0    Tuesday  Holiday  National     Ecuador   \n",
       "\n",
       "                   description transferred  Year_y  Month_y Day Name_y   city  \\\n",
       "date                                                                            \n",
       "2013-01-01  Primer dia del ano       False  2012.0      3.0     Friday  Quito   \n",
       "2013-01-01  Primer dia del ano       False  2012.0      3.0     Friday  Quito   \n",
       "2013-01-01  Primer dia del ano       False  2012.0      3.0     Friday  Quito   \n",
       "2013-01-01  Primer dia del ano       False  2012.0      3.0     Friday  Quito   \n",
       "2013-01-01  Primer dia del ano       False  2012.0      3.0     Friday  Quito   \n",
       "\n",
       "                state type_y  cluster  \n",
       "date                                   \n",
       "2013-01-01  Pichincha      D       13  \n",
       "2013-01-01  Pichincha      D       13  \n",
       "2013-01-01  Pichincha      D       13  \n",
       "2013-01-01  Pichincha      D       13  \n",
       "2013-01-01  Pichincha      D       13  "
      ]
     },
     "execution_count": 114,
     "metadata": {},
     "output_type": "execute_result"
    }
   ],
   "source": [
    "train_data.head()"
   ]
  },
  {
   "cell_type": "code",
   "execution_count": 117,
   "id": "690d6b50",
   "metadata": {},
   "outputs": [
    {
     "data": {
      "text/plain": [
       "date\n",
       "2013-01-01    2012.0\n",
       "2013-01-01    2012.0\n",
       "2013-01-01    2012.0\n",
       "2013-01-01    2012.0\n",
       "2013-01-01    2012.0\n",
       "               ...  \n",
       "2017-08-15    2012.0\n",
       "2017-08-15    2012.0\n",
       "2017-08-15    2012.0\n",
       "2017-08-15    2012.0\n",
       "2017-08-15    2012.0\n",
       "Name: Year_y, Length: 3054348, dtype: float64"
      ]
     },
     "execution_count": 117,
     "metadata": {},
     "output_type": "execute_result"
    }
   ],
   "source": [
    "train_data[\"Year_y\"]"
   ]
  },
  {
   "cell_type": "code",
   "execution_count": 120,
   "id": "443bb726",
   "metadata": {},
   "outputs": [
    {
     "data": {
      "text/html": [
       "<div>\n",
       "<style scoped>\n",
       "    .dataframe tbody tr th:only-of-type {\n",
       "        vertical-align: middle;\n",
       "    }\n",
       "\n",
       "    .dataframe tbody tr th {\n",
       "        vertical-align: top;\n",
       "    }\n",
       "\n",
       "    .dataframe thead th {\n",
       "        text-align: right;\n",
       "    }\n",
       "</style>\n",
       "<table border=\"1\" class=\"dataframe\">\n",
       "  <thead>\n",
       "    <tr style=\"text-align: right;\">\n",
       "      <th></th>\n",
       "      <th>id</th>\n",
       "      <th>date</th>\n",
       "      <th>store_nbr</th>\n",
       "      <th>family</th>\n",
       "      <th>sales</th>\n",
       "      <th>onpromotion</th>\n",
       "    </tr>\n",
       "  </thead>\n",
       "  <tbody>\n",
       "    <tr>\n",
       "      <th>0</th>\n",
       "      <td>0</td>\n",
       "      <td>2013-01-01</td>\n",
       "      <td>1</td>\n",
       "      <td>AUTOMOTIVE</td>\n",
       "      <td>0.0</td>\n",
       "      <td>0</td>\n",
       "    </tr>\n",
       "    <tr>\n",
       "      <th>1</th>\n",
       "      <td>1</td>\n",
       "      <td>2013-01-01</td>\n",
       "      <td>1</td>\n",
       "      <td>BABY CARE</td>\n",
       "      <td>0.0</td>\n",
       "      <td>0</td>\n",
       "    </tr>\n",
       "    <tr>\n",
       "      <th>2</th>\n",
       "      <td>2</td>\n",
       "      <td>2013-01-01</td>\n",
       "      <td>1</td>\n",
       "      <td>BEAUTY</td>\n",
       "      <td>0.0</td>\n",
       "      <td>0</td>\n",
       "    </tr>\n",
       "    <tr>\n",
       "      <th>3</th>\n",
       "      <td>3</td>\n",
       "      <td>2013-01-01</td>\n",
       "      <td>1</td>\n",
       "      <td>BEVERAGES</td>\n",
       "      <td>0.0</td>\n",
       "      <td>0</td>\n",
       "    </tr>\n",
       "    <tr>\n",
       "      <th>4</th>\n",
       "      <td>4</td>\n",
       "      <td>2013-01-01</td>\n",
       "      <td>1</td>\n",
       "      <td>BOOKS</td>\n",
       "      <td>0.0</td>\n",
       "      <td>0</td>\n",
       "    </tr>\n",
       "  </tbody>\n",
       "</table>\n",
       "</div>"
      ],
      "text/plain": [
       "   id       date  store_nbr      family  sales  onpromotion\n",
       "0   0 2013-01-01          1  AUTOMOTIVE    0.0            0\n",
       "1   1 2013-01-01          1   BABY CARE    0.0            0\n",
       "2   2 2013-01-01          1      BEAUTY    0.0            0\n",
       "3   3 2013-01-01          1   BEVERAGES    0.0            0\n",
       "4   4 2013-01-01          1       BOOKS    0.0            0"
      ]
     },
     "execution_count": 120,
     "metadata": {},
     "output_type": "execute_result"
    }
   ],
   "source": [
    "train_set.head()"
   ]
  },
  {
   "cell_type": "code",
   "execution_count": null,
   "id": "312dd194",
   "metadata": {},
   "outputs": [],
   "source": []
  }
 ],
 "metadata": {
  "kernelspec": {
   "display_name": "Python 3 (ipykernel)",
   "language": "python",
   "name": "python3"
  },
  "language_info": {
   "codemirror_mode": {
    "name": "ipython",
    "version": 3
   },
   "file_extension": ".py",
   "mimetype": "text/x-python",
   "name": "python",
   "nbconvert_exporter": "python",
   "pygments_lexer": "ipython3",
   "version": "3.9.13"
  }
 },
 "nbformat": 4,
 "nbformat_minor": 5
}
